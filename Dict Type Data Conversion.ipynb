{
 "cells": [
  {
   "cell_type": "code",
   "execution_count": 2,
   "id": "26720c0f",
   "metadata": {},
   "outputs": [
    {
     "name": "stdout",
     "output_type": "stream",
     "text": [
      "{10: 'python', 20: 'Data', 30: 'Django'} <class 'dict'>\n",
      "{10: 3, 20: 4.5, 30: 5.6, 40: 3.4} <class 'dict'>\n"
     ]
    },
    {
     "data": {
      "text/plain": [
       "4"
      ]
     },
     "execution_count": 2,
     "metadata": {},
     "output_type": "execute_result"
    }
   ],
   "source": [
    "d1={10:\"python\",20:\"Data\",30:\"Django\"}\n",
    "print(d1,type(d1))\n",
    "d2={10:3,20:4.5,30:5.6,40:3.4}\n",
    "print(d2,type(d2))\n",
    "len(d1)\n",
    "len(d2)"
   ]
  },
  {
   "cell_type": "code",
   "execution_count": 3,
   "id": "a71320c5",
   "metadata": {},
   "outputs": [
    {
     "data": {
      "text/plain": [
       "0"
      ]
     },
     "execution_count": 3,
     "metadata": {},
     "output_type": "execute_result"
    }
   ],
   "source": [
    "d3={}\n",
    "len(d3)"
   ]
  },
  {
   "cell_type": "code",
   "execution_count": 4,
   "id": "8c72026b",
   "metadata": {},
   "outputs": [
    {
     "data": {
      "text/plain": [
       "0"
      ]
     },
     "execution_count": 4,
     "metadata": {},
     "output_type": "execute_result"
    }
   ],
   "source": [
    "d4=dict()\n",
    "len(d4)"
   ]
  },
  {
   "cell_type": "code",
   "execution_count": 5,
   "id": "d0f96f3a",
   "metadata": {},
   "outputs": [
    {
     "ename": "KeyError",
     "evalue": "0",
     "output_type": "error",
     "traceback": [
      "\u001b[1;31m---------------------------------------------------------------------------\u001b[0m",
      "\u001b[1;31mKeyError\u001b[0m                                  Traceback (most recent call last)",
      "Cell \u001b[1;32mIn[5], line 2\u001b[0m\n\u001b[0;32m      1\u001b[0m d2\u001b[38;5;241m=\u001b[39m{\u001b[38;5;241m10\u001b[39m:\u001b[38;5;241m3\u001b[39m,\u001b[38;5;241m20\u001b[39m:\u001b[38;5;241m4.5\u001b[39m,\u001b[38;5;241m30\u001b[39m:\u001b[38;5;241m5.6\u001b[39m,\u001b[38;5;241m40\u001b[39m:\u001b[38;5;241m3.4\u001b[39m}\n\u001b[1;32m----> 2\u001b[0m d2[\u001b[38;5;241m0\u001b[39m]\n",
      "\u001b[1;31mKeyError\u001b[0m: 0"
     ]
    }
   ],
   "source": [
    "d2={10:3,20:4.5,30:5.6,40:3.4}\n",
    "d2[0]"
   ]
  },
  {
   "cell_type": "code",
   "execution_count": 7,
   "id": "e6061f12",
   "metadata": {},
   "outputs": [
    {
     "data": {
      "text/plain": [
       "5.6"
      ]
     },
     "execution_count": 7,
     "metadata": {},
     "output_type": "execute_result"
    }
   ],
   "source": [
    "d2[10]\n",
    "d2[30]"
   ]
  },
  {
   "cell_type": "code",
   "execution_count": 9,
   "id": "81524b93",
   "metadata": {},
   "outputs": [
    {
     "name": "stdout",
     "output_type": "stream",
     "text": [
      "{10: 3, 20: 4.5, 30: 5.6, 40: 3.4, 50: 100} <class 'dict'>\n"
     ]
    }
   ],
   "source": [
    "d2[50]=100\n",
    "print(d2,type(d2))"
   ]
  },
  {
   "cell_type": "code",
   "execution_count": 10,
   "id": "17cda7cb",
   "metadata": {},
   "outputs": [
    {
     "name": "stdout",
     "output_type": "stream",
     "text": [
      "{'python': 1, 'Java': 2, 'web': 4.5} <class 'dict'>\n"
     ]
    }
   ],
   "source": [
    "d3={}\n",
    "d3[\"python\"]=1\n",
    "d3[\"Java\"]=2\n",
    "d3[\"web\"]=4.5\n",
    "print(d3,type(d3))"
   ]
  },
  {
   "cell_type": "code",
   "execution_count": 12,
   "id": "2a64f08b",
   "metadata": {},
   "outputs": [
    {
     "name": "stdout",
     "output_type": "stream",
     "text": [
      "{10: 'Apple', 20: 'Mango', 30: 'Banaana', 60: 'Guava'} <class 'dict'>\n"
     ]
    }
   ],
   "source": [
    "d4=dict()\n",
    "d4[10]=\"Apple\"\n",
    "d4[20]=\"Mango\"\n",
    "d4[30]=\"Banaana\"\n",
    "d4[60]=\"Guava\"\n",
    "print(d4,type(d4))"
   ]
  },
  {
   "cell_type": "code",
   "execution_count": 13,
   "id": "df5fb298",
   "metadata": {},
   "outputs": [
    {
     "name": "stdout",
     "output_type": "stream",
     "text": [
      "{10: 3, 20: 4.5, 30: 5.6, 40: 3.4, 50: 60} <class 'dict'>\n"
     ]
    }
   ],
   "source": [
    "d2={10:3,20:4.5,30:5.6,40:3.4,50:100}\n",
    "d2[50]=60\n",
    "print(d2,type(d2))"
   ]
  },
  {
   "cell_type": "code",
   "execution_count": 16,
   "id": "bcdb9ede",
   "metadata": {},
   "outputs": [
    {
     "name": "stdout",
     "output_type": "stream",
     "text": [
      "{} 2206797800576\n",
      "None\n"
     ]
    }
   ],
   "source": [
    "#Clear\n",
    "d2={10:3,20:4.5,30:5.6,40:3.4,50:100}\n",
    "len(d2)\n",
    "d1.clear()\n",
    "print(d1,id(d1))\n",
    "print(d1.clear())"
   ]
  },
  {
   "cell_type": "code",
   "execution_count": 31,
   "id": "0efe61bf",
   "metadata": {},
   "outputs": [
    {
     "name": "stdout",
     "output_type": "stream",
     "text": [
      "{10: 'Mango', 20: 'Appple', 30: 'Banana'} 2206811716544\n",
      "<built-in method copy of dict object at 0x00000201D03A7BC0> 2206812171264\n"
     ]
    }
   ],
   "source": [
    "#copy   Shallow copy (If we copy from d1 to d2 so the addresses are different )\n",
    "d1={10:\"Mango\",20:\"Appple\",30:\"Banana\"}\n",
    "print(d1,id(d1))\n",
    "d2=d1.copy\n",
    "print(d2,id(d2))\n"
   ]
  },
  {
   "cell_type": "code",
   "execution_count": 32,
   "id": "24abf1f2",
   "metadata": {},
   "outputs": [
    {
     "name": "stdout",
     "output_type": "stream",
     "text": [
      "{10: 'Mango', 20: 'Appple', 30: 'Banana'} 2206812442944\n",
      "{10: 'Mango', 20: 'Appple', 30: 'Banana'} 2206812442944\n"
     ]
    }
   ],
   "source": [
    "#Deep copy (If we copy from d1 to d2 directly...then the addresses are Same)\n",
    "d1={10:\"Mango\",20:\"Appple\",30:\"Banana\"}\n",
    "print(d1,id(d1))\n",
    "d2=d1\n",
    "print(d2,id(d2))"
   ]
  },
  {
   "cell_type": "code",
   "execution_count": 36,
   "id": "0edc72b0",
   "metadata": {},
   "outputs": [
    {
     "name": "stdout",
     "output_type": "stream",
     "text": [
      "{10: 'Mango', 20: 'Appple', 30: 'Banana'} 2206811716544\n",
      "{10: 'Gauva', 20: 'Appple', 30: 'Banana'} 2206811716544\n",
      "{10: 'Kaya', 20: 'Appple', 30: 'Banana'} 2206812442944\n"
     ]
    }
   ],
   "source": [
    "d1={10:\"Mango\",20:\"Appple\",30:\"Banana\"}\n",
    "print(d1,id(d1))\n",
    "\n",
    "d1[10]=\"Gauva\"\n",
    "print(d1,id(d1))\n",
    "d2[10]=\"Kaya\"\n",
    "print(d2,id(d2))"
   ]
  },
  {
   "cell_type": "code",
   "execution_count": 38,
   "id": "92c0b05e",
   "metadata": {},
   "outputs": [
    {
     "name": "stdout",
     "output_type": "stream",
     "text": [
      "{10: 'Mango', 20: 'Appple', 30: 'Banana'} 2206812489088\n",
      "{20: 'Appple', 30: 'Banana'} 2206812489088\n"
     ]
    }
   ],
   "source": [
    "#Pop()   Will passing the value of key and deleting the specified (key,value)\n",
    "d1={10:\"Mango\",20:\"Appple\",30:\"Banana\"}\n",
    "print(d1,id(d1))\n",
    "d1.pop(10)\n",
    "print(d1,id(d1))"
   ]
  },
  {
   "cell_type": "code",
   "execution_count": 40,
   "id": "9737d43e",
   "metadata": {},
   "outputs": [
    {
     "ename": "KeyError",
     "evalue": "40",
     "output_type": "error",
     "traceback": [
      "\u001b[1;31m---------------------------------------------------------------------------\u001b[0m",
      "\u001b[1;31mKeyError\u001b[0m                                  Traceback (most recent call last)",
      "Cell \u001b[1;32mIn[40], line 1\u001b[0m\n\u001b[1;32m----> 1\u001b[0m d1\u001b[38;5;241m.\u001b[39mpop(\u001b[38;5;241m40\u001b[39m)\n\u001b[0;32m      2\u001b[0m \u001b[38;5;28mprint\u001b[39m({}\u001b[38;5;241m.\u001b[39mpop(\u001b[38;5;241m11\u001b[39m))\n\u001b[0;32m      3\u001b[0m \u001b[38;5;28mprint\u001b[39m(\u001b[38;5;28mdict\u001b[39m()\u001b[38;5;241m.\u001b[39mpop(\u001b[38;5;241m20\u001b[39m))\n",
      "\u001b[1;31mKeyError\u001b[0m: 40"
     ]
    }
   ],
   "source": [
    "d1.pop(40)\n"
   ]
  },
  {
   "cell_type": "code",
   "execution_count": 41,
   "id": "819fd6a9",
   "metadata": {},
   "outputs": [
    {
     "ename": "KeyError",
     "evalue": "11",
     "output_type": "error",
     "traceback": [
      "\u001b[1;31m---------------------------------------------------------------------------\u001b[0m",
      "\u001b[1;31mKeyError\u001b[0m                                  Traceback (most recent call last)",
      "Cell \u001b[1;32mIn[41], line 1\u001b[0m\n\u001b[1;32m----> 1\u001b[0m \u001b[38;5;28mprint\u001b[39m({}\u001b[38;5;241m.\u001b[39mpop(\u001b[38;5;241m11\u001b[39m))\n\u001b[0;32m      2\u001b[0m \u001b[38;5;28mprint\u001b[39m(\u001b[38;5;28mdict\u001b[39m()\u001b[38;5;241m.\u001b[39mpop(\u001b[38;5;241m20\u001b[39m))\n",
      "\u001b[1;31mKeyError\u001b[0m: 11"
     ]
    }
   ],
   "source": [
    "print({}.pop(11))\n"
   ]
  },
  {
   "cell_type": "code",
   "execution_count": 42,
   "id": "1a8068b2",
   "metadata": {},
   "outputs": [
    {
     "ename": "KeyError",
     "evalue": "20",
     "output_type": "error",
     "traceback": [
      "\u001b[1;31m---------------------------------------------------------------------------\u001b[0m",
      "\u001b[1;31mKeyError\u001b[0m                                  Traceback (most recent call last)",
      "Cell \u001b[1;32mIn[42], line 1\u001b[0m\n\u001b[1;32m----> 1\u001b[0m \u001b[38;5;28mprint\u001b[39m(\u001b[38;5;28mdict\u001b[39m()\u001b[38;5;241m.\u001b[39mpop(\u001b[38;5;241m20\u001b[39m))\n",
      "\u001b[1;31mKeyError\u001b[0m: 20"
     ]
    }
   ],
   "source": [
    "print(dict().pop(20))"
   ]
  },
  {
   "cell_type": "code",
   "execution_count": 46,
   "id": "28033589",
   "metadata": {},
   "outputs": [
    {
     "data": {
      "text/plain": [
       "(30, 'Banana')"
      ]
     },
     "execution_count": 46,
     "metadata": {},
     "output_type": "execute_result"
    }
   ],
   "source": [
    "#PopItem() #Removing last(key.value) from Non-empty dict  If not exist Key Error\n",
    "d1={10:\"Mango\",20:\"Appple\",30:\"Banana\"}\n",
    "d1.popitem()\n"
   ]
  },
  {
   "cell_type": "code",
   "execution_count": 45,
   "id": "5ac75484",
   "metadata": {},
   "outputs": [
    {
     "name": "stdout",
     "output_type": "stream",
     "text": [
      "{10: 'Mango', 20: 'Appple'}\n"
     ]
    }
   ],
   "source": [
    "print(d1)"
   ]
  },
  {
   "cell_type": "code",
   "execution_count": 54,
   "id": "f9a99c28",
   "metadata": {},
   "outputs": [
    {
     "name": "stdout",
     "output_type": "stream",
     "text": [
      "Mango 2206797769136\n",
      "Banana 2206810351984\n"
     ]
    }
   ],
   "source": [
    "#get()  Varname=dictobj.get(key) or dictobj[key] obtaining value of value by passing value of key /if the value of key exist in nonemoty dict then LHS Var name contains Value of Value, if doesn't exist it will give LHS Var Name as none\n",
    "\n",
    "d1={10:\"Mango\",20:\"Appple\",30:\"Banana\"}\n",
    "v1=d1.get(10)\n",
    "print(v1,id(v1))\n",
    "v1=d1.get(30)\n",
    "print(v1,id(v1))"
   ]
  },
  {
   "cell_type": "code",
   "execution_count": 51,
   "id": "4a6f567f",
   "metadata": {},
   "outputs": [
    {
     "name": "stdout",
     "output_type": "stream",
     "text": [
      "None 140707388877552\n"
     ]
    }
   ],
   "source": [
    "v2=d1.get(40)\n",
    "print(v2,id(v2))"
   ]
  },
  {
   "cell_type": "code",
   "execution_count": 52,
   "id": "8c4e2fa0",
   "metadata": {},
   "outputs": [
    {
     "data": {
      "text/plain": [
       "'Mango'"
      ]
     },
     "execution_count": 52,
     "metadata": {},
     "output_type": "execute_result"
    }
   ],
   "source": [
    "#Syntax 2 dictobj[key]\n",
    "d1={10:\"Mango\",20:\"Appple\",30:\"Banana\"}\n",
    "d1[10]"
   ]
  },
  {
   "cell_type": "code",
   "execution_count": 53,
   "id": "21a9dec3",
   "metadata": {},
   "outputs": [
    {
     "ename": "KeyError",
     "evalue": "40",
     "output_type": "error",
     "traceback": [
      "\u001b[1;31m---------------------------------------------------------------------------\u001b[0m",
      "\u001b[1;31mKeyError\u001b[0m                                  Traceback (most recent call last)",
      "Cell \u001b[1;32mIn[53], line 1\u001b[0m\n\u001b[1;32m----> 1\u001b[0m d1[\u001b[38;5;241m40\u001b[39m]\n",
      "\u001b[1;31mKeyError\u001b[0m: 40"
     ]
    }
   ],
   "source": [
    "d1[40]"
   ]
  },
  {
   "cell_type": "code",
   "execution_count": null,
   "id": "86888aba",
   "metadata": {},
   "outputs": [],
   "source": [
    "#Keys()  varname=dictobj.keys() Obtaining list of values if key and stored in LHS var name"
   ]
  }
 ],
 "metadata": {
  "kernelspec": {
   "display_name": "Python 3 (ipykernel)",
   "language": "python",
   "name": "python3"
  },
  "language_info": {
   "codemirror_mode": {
    "name": "ipython",
    "version": 3
   },
   "file_extension": ".py",
   "mimetype": "text/x-python",
   "name": "python",
   "nbconvert_exporter": "python",
   "pygments_lexer": "ipython3",
   "version": "3.11.4"
  }
 },
 "nbformat": 4,
 "nbformat_minor": 5
}
