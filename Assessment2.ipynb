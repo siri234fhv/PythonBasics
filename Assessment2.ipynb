{
 "cells": [
  {
   "cell_type": "code",
   "execution_count": 4,
   "id": "4f81c81f",
   "metadata": {},
   "outputs": [
    {
     "name": "stdout",
     "output_type": "stream",
     "text": [
      "[1, 2, 3, 4, 5, 6, 7, 8, 9]\n"
     ]
    }
   ],
   "source": [
    "#1\n",
    "#Create a list containing squares of numbers from 1 to 10 using List Comprehension\n",
    "val=[i for i in range(1,10)]\n",
    "print(val)"
   ]
  },
  {
   "cell_type": "code",
   "execution_count": 11,
   "id": "66bad38f",
   "metadata": {},
   "outputs": [
    {
     "name": "stdout",
     "output_type": "stream",
     "text": [
      "Enter a year2029\n",
      "It is not a leap year\n"
     ]
    }
   ],
   "source": [
    "#2\n",
    "#Write a function to check if year number is a leap year\n",
    "def leap_year():\n",
    "    n=int(input(\"Enter a year\"))\n",
    "    if n%4==0:\n",
    "        print(\"It is a leap year\")\n",
    "    else:\n",
    "        print(\"It is not a leap year\")\n",
    "leap_year()"
   ]
  },
  {
   "cell_type": "code",
   "execution_count": 97,
   "id": "2fdabb6d",
   "metadata": {},
   "outputs": [
    {
     "name": "stdout",
     "output_type": "stream",
     "text": [
      "[2, 4, 6, 8]\n"
     ]
    }
   ],
   "source": [
    "#3\n",
    "#Write a Function to take an array and return another array that contains the members of the first array that are even\n",
    "\n",
    "def get_even_numbers(input_array):\n",
    "    even_numbers = []\n",
    "    for number in input_array:\n",
    "        if number % 2 == 0:\n",
    "            even_numbers.append(number)\n",
    "            #print(even_numbers)\n",
    "    return even_numbers\n",
    "\n",
    "input_array = [1, 2, 3, 4, 5, 6,7,8,9]\n",
    "result = get_even_numbers(input_array)\n",
    "print(result)"
   ]
  },
  {
   "cell_type": "code",
   "execution_count": 121,
   "id": "4eeb60ac",
   "metadata": {},
   "outputs": [
    {
     "name": "stdout",
     "output_type": "stream",
     "text": [
      "1,2,4,6,7,"
     ]
    }
   ],
   "source": [
    "#4\n",
    "#Write a function that takes 2 arrays and prints the members of first array that are present of second array(Membership comprehension)\n",
    "def comn_elements(ar1,ar2):\n",
    "    comn_elements=[element for element in ar1 if element in ar2]\n",
    "    for element in comn_elements:\n",
    "        print(element,end=\",\")\n",
    "ar1=[1,2,3,4,5,6,7]\n",
    "ar2=[2,4,6,7,8,9,1]\n",
    "comn_elements(ar1,ar2)"
   ]
  },
  {
   "cell_type": "code",
   "execution_count": 103,
   "id": "b1d6cf02",
   "metadata": {},
   "outputs": [
    {
     "name": "stdout",
     "output_type": "stream",
     "text": [
      "[10, 20, 30, 'apple', True, 8.1, 30, 40]\n",
      "[40, 30, 8.1, True, 'apple', 30, 20, 10]\n"
     ]
    }
   ],
   "source": [
    "#5\n",
    "#create a list named 'myList' that is having the following elements:10,20,30,'apple',True,8.10\n",
    "#a. Now in the myList,append these values:30,40\n",
    "#b. After that reverse the elements of the 'myList' and store that in \"reversed List\"\n",
    "myList=[10,20,30,'apple',True,8.10]\n",
    "myList.append(30)\n",
    "myList.append(40)\n",
    "print(myList)\n",
    "reversedList=myList.copy()\n",
    "reversedList.reverse()\n",
    "#we can use slicing also for printing the elements in revese \n",
    "#reversedList=myList[::-1]\n",
    "print(reversedList)"
   ]
  },
  {
   "cell_type": "code",
   "execution_count": 128,
   "id": "2482b03c",
   "metadata": {},
   "outputs": [
    {
     "name": "stdout",
     "output_type": "stream",
     "text": [
      "{1: 'data', 2: 'information'}\n",
      "{1: 'data', 2: 'information', 3: 'message'}\n"
     ]
    },
    {
     "data": {
      "text/plain": [
       "'data'"
      ]
     },
     "execution_count": 128,
     "metadata": {},
     "output_type": "execute_result"
    }
   ],
   "source": [
    "#6 \n",
    "d1={1:\"data\",2:\"information\",3:\"text\"}\n",
    "d1.pop(3)\n",
    "print(d1)\n",
    "d1.update({3:\"message\"})\n",
    "print(d1)\n",
    "d1.get(1)"
   ]
  },
  {
   "cell_type": "code",
   "execution_count": 35,
   "id": "3e04a7ee",
   "metadata": {},
   "outputs": [
    {
     "name": "stdout",
     "output_type": "stream",
     "text": [
      "(1, 2, 3, 'apple', 'mango')\n"
     ]
    }
   ],
   "source": [
    "#7.\n",
    "tuple=() # create a empty tuple\n",
    "my_tuple=tuple+(1,2,3,'apple','mango') #aading the elements\n",
    "print(my_tuple)\n"
   ]
  },
  {
   "cell_type": "code",
   "execution_count": 91,
   "id": "139a0170",
   "metadata": {},
   "outputs": [
    {
     "name": "stdout",
     "output_type": "stream",
     "text": [
      "10\n",
      "(10, 20, 30, 40, 50, 1, 2, 3, 'apple', 'mango')\n",
      "(1, 2, 3, 'apple', 'mango', 1, 2, 3, 'apple', 'mango')\n"
     ]
    }
   ],
   "source": [
    "#8\n",
    "numeric_tuple=(10,20,30,40,50)\n",
    "my_tuple=tuple+(1,2,3,'apple','mango') \n",
    "\n",
    "print(min(numeric_tuple))\n",
    "r1=numeric_tuple+my_tuple\n",
    "print(r1)\n",
    "my_tuple2=(1,2,3,'apple','mango')*2\n",
    "print(my_tuple2)\n"
   ]
  },
  {
   "cell_type": "code",
   "execution_count": 44,
   "id": "405ba9d4",
   "metadata": {},
   "outputs": [
    {
     "name": "stdout",
     "output_type": "stream",
     "text": [
      "{1, 2, 3, 4, 5, 6, 7}\n",
      "{1, 2, 3}\n",
      "{4, 5}\n"
     ]
    }
   ],
   "source": [
    "#9\n",
    "set1={1,2,3,4,5}\n",
    "set2={2,3,7,6,1}\n",
    "\n",
    "#set1 union set2\n",
    "set3=set1.union(set2)\n",
    "print(set3)\n",
    "\n",
    "#set1 Intersection set2\n",
    "set4=set1.intersection(set2)\n",
    "print(set4)\n",
    "\n",
    "#set1 Intersection set2\n",
    "set5=set1.difference(set2)\n",
    "print(set5)"
   ]
  },
  {
   "cell_type": "code",
   "execution_count": 3,
   "id": "92fe5329",
   "metadata": {},
   "outputs": [
    {
     "name": "stdout",
     "output_type": "stream",
     "text": [
      "Enter a value:jhujd\n",
      "don't enter strs ,alphanums and symbols\n"
     ]
    }
   ],
   "source": [
    "#10\n",
    "try:\n",
    "    a=int(input(\"Enter a value:\"))\n",
    "    b=int(input(\"Enter b value:\"))\n",
    "\n",
    "    if(a>b):\n",
    "        print(\"Big({},{}={})\".format(a,b,a))\n",
    "    if(b>a):\n",
    "        print(\"Big({},{}={})\".format(a,b,b))\n",
    "    if(a==b):\n",
    "        print(\"Both values are equal\")\n",
    "except ValueError:\n",
    "    print(\"don't enter strs ,alphanums and symbols\")\n"
   ]
  },
  {
   "cell_type": "code",
   "execution_count": 1,
   "id": "40112ea7",
   "metadata": {},
   "outputs": [
    {
     "name": "stdout",
     "output_type": "stream",
     "text": [
      "Enter a value:10\n",
      "Enter b value:3746wj\n",
      "don't enter strs,alphanums and symbols\n"
     ]
    }
   ],
   "source": [
    "#11\n",
    "#Take three user inputs and print the greatest number from those inputs using if-else condition.Edge cases if any,should also be handled\n",
    "\n",
    "try: \n",
    "    a=int(input(\"Enter a value:\"))\n",
    "    b=int(input(\"Enter b value:\"))\n",
    "    c=int(input(\"Enter c value:\"))\n",
    "\n",
    "    if(a>=b)and(a>=c):\n",
    "        print(\"Greatest number is a:\",a)\n",
    "\n",
    "    elif(b>=a)and(b>=c):\n",
    "        print(\"Greatest number is b:\",b)\n",
    "    else:\n",
    "        print(\"Greatest number is c:\",c)\n",
    "    \n",
    "except ValueError:\n",
    "        print(\"don't enter strs,alphanums and symbols\")\n"
   ]
  },
  {
   "cell_type": "code",
   "execution_count": 6,
   "id": "e068e1e3",
   "metadata": {},
   "outputs": [
    {
     "name": "stdout",
     "output_type": "stream",
     "text": [
      "0,1,2,3,4,5,6,7,8,9,"
     ]
    }
   ],
   "source": [
    "#12\n",
    "i=0\n",
    "while(i<10):\n",
    "    print(i,end=\",\")\n",
    "    i=i+1"
   ]
  },
  {
   "cell_type": "code",
   "execution_count": 5,
   "id": "66704278",
   "metadata": {},
   "outputs": [
    {
     "name": "stdout",
     "output_type": "stream",
     "text": [
      "[10, 4, 26, 4, 24, 54]\n"
     ]
    }
   ],
   "source": [
    "# Create a list of numbers\n",
    "lst = [10, 23, 4, 26, 4, 75, 24, 54]\n",
    "index = 0\n",
    "even_numbers = []\n",
    "while index < len(lst):\n",
    "    if lst[index] % 2 == 0:\n",
    "        even_numbers.append(lst[index])\n",
    "    # index increamentation\n",
    "    index += 1\n",
    "print(even_numbers)"
   ]
  },
  {
   "cell_type": "code",
   "execution_count": 32,
   "id": "c07faa1e",
   "metadata": {},
   "outputs": [
    {
     "name": "stdout",
     "output_type": "stream",
     "text": [
      "Enter the number6\n",
      "6 is Not Prime\n"
     ]
    }
   ],
   "source": [
    "n=int(input(\"Enter the number\"))\n",
    "res=\"Prime\"\n",
    "for i in range(2,n):\n",
    "    if(n%i==0):\n",
    "        res=\"Not Prime\"\n",
    "    break\n",
    "if(res==\"Prime\"):\n",
    "    print(\"{} is {}\".format(n,res))\n",
    "else:\n",
    "    print(\"{} is {}\".format(n,res))"
   ]
  },
  {
   "cell_type": "code",
   "execution_count": 23,
   "id": "4c1aa56a",
   "metadata": {},
   "outputs": [
    {
     "ename": "TypeError",
     "evalue": "'list' object cannot be interpreted as an integer",
     "output_type": "error",
     "traceback": [
      "\u001b[1;31m---------------------------------------------------------------------------\u001b[0m",
      "\u001b[1;31mTypeError\u001b[0m                                 Traceback (most recent call last)",
      "Cell \u001b[1;32mIn[23], line 2\u001b[0m\n\u001b[0;32m      1\u001b[0m res\u001b[38;5;241m=\u001b[39m\u001b[38;5;124m\"\u001b[39m\u001b[38;5;124mPrime\u001b[39m\u001b[38;5;124m\"\u001b[39m\n\u001b[1;32m----> 2\u001b[0m \u001b[38;5;28;01mfor\u001b[39;00m i \u001b[38;5;129;01min\u001b[39;00m \u001b[38;5;28mrange\u001b[39m(\u001b[38;5;241m2\u001b[39m,n):\n\u001b[0;32m      3\u001b[0m     \u001b[38;5;28;01mif\u001b[39;00m(n\u001b[38;5;241m%\u001b[39mi\u001b[38;5;241m==\u001b[39m\u001b[38;5;241m0\u001b[39m):\n\u001b[0;32m      4\u001b[0m         res\u001b[38;5;241m=\u001b[39m\u001b[38;5;124m\"\u001b[39m\u001b[38;5;124mNot Prime\u001b[39m\u001b[38;5;124m\"\u001b[39m\n",
      "\u001b[1;31mTypeError\u001b[0m: 'list' object cannot be interpreted as an integer"
     ]
    }
   ],
   "source": []
  },
  {
   "cell_type": "code",
   "execution_count": null,
   "id": "e9b697d0",
   "metadata": {},
   "outputs": [],
   "source": []
  }
 ],
 "metadata": {
  "kernelspec": {
   "display_name": "Python 3 (ipykernel)",
   "language": "python",
   "name": "python3"
  },
  "language_info": {
   "codemirror_mode": {
    "name": "ipython",
    "version": 3
   },
   "file_extension": ".py",
   "mimetype": "text/x-python",
   "name": "python",
   "nbconvert_exporter": "python",
   "pygments_lexer": "ipython3",
   "version": "3.11.4"
  }
 },
 "nbformat": 4,
 "nbformat_minor": 5
}
