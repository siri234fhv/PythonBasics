{
 "cells": [
  {
   "cell_type": "code",
   "execution_count": 1,
   "id": "3752ce46",
   "metadata": {},
   "outputs": [
    {
     "name": "stdout",
     "output_type": "stream",
     "text": [
      "enter a value:10\n",
      "enter b value:20\n",
      "sum of a and b is : 1020\n"
     ]
    }
   ],
   "source": [
    "#method 2\n",
    "a=input('enter a value:')\n",
    "b=input('enter b value:')\n",
    "print('sum of a and b is :', a+b)\n"
   ]
  },
  {
   "cell_type": "code",
   "execution_count": null,
   "id": "a03c788e",
   "metadata": {},
   "outputs": [],
   "source": [
    "# sum of a and b is 1020----whenever the user input take string .. so we can do the type casting string into integer"
   ]
  },
  {
   "cell_type": "code",
   "execution_count": 2,
   "id": "064dd2cf",
   "metadata": {},
   "outputs": [
    {
     "name": "stdout",
     "output_type": "stream",
     "text": [
      "enter a value:10\n",
      "enter b value:20\n",
      "sum of a and b is: 30\n"
     ]
    }
   ],
   "source": [
    "#method 3\n",
    "a=int(input('enter a value:')) #a='10'==int('10')=10\n",
    "b=int(input('enter b value:'))\n",
    "print('sum of a and b is:', a+b)"
   ]
  },
  {
   "cell_type": "code",
   "execution_count": 3,
   "id": "f26795eb",
   "metadata": {},
   "outputs": [
    {
     "name": "stdout",
     "output_type": "stream",
     "text": [
      "enter a value:20\n",
      "enter b value:30\n",
      "sum of a and b is: 50\n"
     ]
    }
   ],
   "source": [
    "a=input('enter a value:')\n",
    "b=input('enter b value:')\n",
    "print('sum of a and b is:', int(a)+int(b))"
   ]
  },
  {
   "cell_type": "code",
   "execution_count": 7,
   "id": "b07d5c33",
   "metadata": {},
   "outputs": [
    {
     "ename": "SyntaxError",
     "evalue": "Missing parentheses in call to 'print'. Did you mean print(...)? (3019856845.py, line 5)",
     "output_type": "error",
     "traceback": [
      "\u001b[1;36m  Cell \u001b[1;32mIn[7], line 5\u001b[1;36m\u001b[0m\n\u001b[1;33m    print float(('mul of a{} and b{} is {}: ' ,a*b))\u001b[0m\n\u001b[1;37m    ^\u001b[0m\n\u001b[1;31mSyntaxError\u001b[0m\u001b[1;31m:\u001b[0m Missing parentheses in call to 'print'. Did you mean print(...)?\n"
     ]
    }
   ],
   "source": [
    "#ask the user to enter 10.5 and 20.5 and apply multiplication\n",
    "a=10.5\n",
    "b=20.5\n",
    "c=a*b\n",
    "print ('mul of a{} and b{} is {}: ' ,a*b)"
   ]
  },
  {
   "cell_type": "code",
   "execution_count": 10,
   "id": "af894950",
   "metadata": {},
   "outputs": [
    {
     "ename": "SyntaxError",
     "evalue": "incomplete input (3549770470.py, line 3)",
     "output_type": "error",
     "traceback": [
      "\u001b[1;36m  Cell \u001b[1;32mIn[10], line 3\u001b[1;36m\u001b[0m\n\u001b[1;33m    print(\"multiplication of{} and b{} is{}:\".format(a,b,a*b)\u001b[0m\n\u001b[1;37m                                                              ^\u001b[0m\n\u001b[1;31mSyntaxError\u001b[0m\u001b[1;31m:\u001b[0m incomplete input\n"
     ]
    }
   ],
   "source": [
    "a=float(input('enter a value:'))\n",
    "b=float(input('enter b value:'))\n",
    "print(\"multiplication of{} and b{} is{}:\".format(a,b,a*b) \n"
   ]
  },
  {
   "cell_type": "code",
   "execution_count": 11,
   "id": "1192f6c1",
   "metadata": {},
   "outputs": [
    {
     "name": "stdout",
     "output_type": "stream",
     "text": [
      "enter a value:10.5\n",
      "enter b value:20.5\n",
      "sum of a and b is: 31.0\n"
     ]
    }
   ],
   "source": [
    "a=eval(input('enter a value:'))\n",
    "b=eval(input('enter b value:'))\n",
    "print('sum of a and b is:',a+b)\n"
   ]
  },
  {
   "cell_type": "code",
   "execution_count": null,
   "id": "89fc2ea9",
   "metadata": {},
   "outputs": [],
   "source": [
    "#user promts always -===string type\n",
    "#we are converting into either int or float type\n",
    "#eval ====int/float"
   ]
  },
  {
   "cell_type": "code",
   "execution_count": 13,
   "id": "277d4b28",
   "metadata": {},
   "outputs": [
    {
     "ename": "ValueError",
     "evalue": "invalid literal for int() with base 10: 'python'",
     "output_type": "error",
     "traceback": [
      "\u001b[1;31m---------------------------------------------------------------------------\u001b[0m",
      "\u001b[1;31mValueError\u001b[0m                                Traceback (most recent call last)",
      "Cell \u001b[1;32mIn[13], line 2\u001b[0m\n\u001b[0;32m      1\u001b[0m s1\u001b[38;5;241m=\u001b[39m\u001b[38;5;124m'\u001b[39m\u001b[38;5;124mpython\u001b[39m\u001b[38;5;124m'\u001b[39m\n\u001b[1;32m----> 2\u001b[0m \u001b[38;5;28mint\u001b[39m(s1)\n",
      "\u001b[1;31mValueError\u001b[0m: invalid literal for int() with base 10: 'python'"
     ]
    }
   ],
   "source": [
    "s1='python'\n",
    "int(s1)"
   ]
  },
  {
   "cell_type": "code",
   "execution_count": 14,
   "id": "af033004",
   "metadata": {},
   "outputs": [
    {
     "ename": "ValueError",
     "evalue": "invalid literal for int() with base 10: '10.5'",
     "output_type": "error",
     "traceback": [
      "\u001b[1;31m---------------------------------------------------------------------------\u001b[0m",
      "\u001b[1;31mValueError\u001b[0m                                Traceback (most recent call last)",
      "Cell \u001b[1;32mIn[14], line 2\u001b[0m\n\u001b[0;32m      1\u001b[0m s2\u001b[38;5;241m=\u001b[39m\u001b[38;5;124m'\u001b[39m\u001b[38;5;124m10.5\u001b[39m\u001b[38;5;124m'\u001b[39m\n\u001b[1;32m----> 2\u001b[0m \u001b[38;5;28mint\u001b[39m(s2)\n",
      "\u001b[1;31mValueError\u001b[0m: invalid literal for int() with base 10: '10.5'"
     ]
    }
   ],
   "source": [
    "s2='10.5' ===float type so convert to int\n",
    "int(s2)===="
   ]
  },
  {
   "cell_type": "code",
   "execution_count": 15,
   "id": "8cf999b6",
   "metadata": {},
   "outputs": [
    {
     "ename": "ValueError",
     "evalue": "invalid literal for int() with base 10: '10+20j'",
     "output_type": "error",
     "traceback": [
      "\u001b[1;31m---------------------------------------------------------------------------\u001b[0m",
      "\u001b[1;31mValueError\u001b[0m                                Traceback (most recent call last)",
      "Cell \u001b[1;32mIn[15], line 2\u001b[0m\n\u001b[0;32m      1\u001b[0m s3\u001b[38;5;241m=\u001b[39m\u001b[38;5;124m'\u001b[39m\u001b[38;5;124m10+20j\u001b[39m\u001b[38;5;124m'\u001b[39m\n\u001b[1;32m----> 2\u001b[0m \u001b[38;5;28mint\u001b[39m(s3)\n",
      "\u001b[1;31mValueError\u001b[0m: invalid literal for int() with base 10: '10+20j'"
     ]
    }
   ],
   "source": [
    "s3='10+20j'\n",
    "int(s3)"
   ]
  },
  {
   "cell_type": "code",
   "execution_count": 16,
   "id": "d5dc6b23",
   "metadata": {},
   "outputs": [
    {
     "name": "stdout",
     "output_type": "stream",
     "text": [
      "enter a complex num:10+20j\n"
     ]
    }
   ],
   "source": [
    "a=input('enter a complex num:')"
   ]
  },
  {
   "cell_type": "code",
   "execution_count": null,
   "id": "10047740",
   "metadata": {},
   "outputs": [],
   "source": [
    "#ask the user enter a number of hours work\n",
    "#ask the user enter a wage per hour\n",
    "#calculate total money"
   ]
  },
  {
   "cell_type": "code",
   "execution_count": 9,
   "id": "d1ebcea5",
   "metadata": {},
   "outputs": [
    {
     "ename": "TypeError",
     "evalue": "'str' object is not callable",
     "output_type": "error",
     "traceback": [
      "\u001b[1;31m---------------------------------------------------------------------------\u001b[0m",
      "\u001b[1;31mTypeError\u001b[0m                                 Traceback (most recent call last)",
      "Cell \u001b[1;32mIn[9], line 10\u001b[0m\n\u001b[0;32m      8\u001b[0m s[\u001b[38;5;241m-\u001b[39m\u001b[38;5;241m2\u001b[39m]\n\u001b[0;32m      9\u001b[0m s[\u001b[38;5;241m-\u001b[39m\u001b[38;5;241m4\u001b[39m]\n\u001b[1;32m---> 10\u001b[0m s(\u001b[38;5;28mlen\u001b[39m(s))\n",
      "\u001b[1;31mTypeError\u001b[0m: 'str' object is not callable"
     ]
    }
   ],
   "source": [
    "#Indexing\n",
    "s=\"PYTHON\"\n",
    "s[0]\n",
    "s[-6]\n",
    "s[1]\n",
    "s[2]\n",
    "s[3]\n",
    "s[-2]\n",
    "s[-4]\n"
   ]
  },
  {
   "cell_type": "code",
   "execution_count": 16,
   "id": "d9ee385a",
   "metadata": {},
   "outputs": [
    {
     "data": {
      "text/plain": [
       "'P'"
      ]
     },
     "execution_count": 16,
     "metadata": {},
     "output_type": "execute_result"
    }
   ],
   "source": [
    "s=\"PYTHON\"\n",
    "s[len(s)-1]\n",
    "s[-len(s)]"
   ]
  },
  {
   "cell_type": "code",
   "execution_count": 22,
   "id": "a02b35a4",
   "metadata": {},
   "outputs": [
    {
     "data": {
      "text/plain": [
       "'NOHTYP'"
      ]
     },
     "execution_count": 22,
     "metadata": {},
     "output_type": "execute_result"
    }
   ],
   "source": [
    "#Slicing\n",
    "s=\"PYTHON\"\n",
    "s[::-1]"
   ]
  },
  {
   "cell_type": "code",
   "execution_count": 23,
   "id": "f7b74f15",
   "metadata": {},
   "outputs": [
    {
     "data": {
      "text/plain": [
       "'PTO'"
      ]
     },
     "execution_count": 23,
     "metadata": {},
     "output_type": "execute_result"
    }
   ],
   "source": [
    "s=\"PYTHON\"\n",
    "s[::2]"
   ]
  },
  {
   "cell_type": "code",
   "execution_count": 24,
   "id": "c8f524e6",
   "metadata": {},
   "outputs": [
    {
     "data": {
      "text/plain": [
       "'PYT'"
      ]
     },
     "execution_count": 24,
     "metadata": {},
     "output_type": "execute_result"
    }
   ],
   "source": [
    "s=\"PYTHON\"\n",
    "s[0:3]"
   ]
  },
  {
   "cell_type": "code",
   "execution_count": 25,
   "id": "785d2555",
   "metadata": {},
   "outputs": [
    {
     "data": {
      "text/plain": [
       "'THO'"
      ]
     },
     "execution_count": 25,
     "metadata": {},
     "output_type": "execute_result"
    }
   ],
   "source": [
    "s=\"PYTHON\"\n",
    "s[2:5]"
   ]
  },
  {
   "cell_type": "code",
   "execution_count": 27,
   "id": "f2809286",
   "metadata": {},
   "outputs": [
    {
     "data": {
      "text/plain": [
       "'YTHO'"
      ]
     },
     "execution_count": 27,
     "metadata": {},
     "output_type": "execute_result"
    }
   ],
   "source": [
    "s=\"PYTHON\"\n",
    "s[1:5]"
   ]
  },
  {
   "cell_type": "code",
   "execution_count": 28,
   "id": "8e998810",
   "metadata": {},
   "outputs": [
    {
     "data": {
      "text/plain": [
       "'HON'"
      ]
     },
     "execution_count": 28,
     "metadata": {},
     "output_type": "execute_result"
    }
   ],
   "source": [
    "s=\"PYTHON\"\n",
    "s[3:6]"
   ]
  },
  {
   "cell_type": "code",
   "execution_count": 30,
   "id": "5294a128",
   "metadata": {},
   "outputs": [
    {
     "data": {
      "text/plain": [
       "'PYTHO'"
      ]
     },
     "execution_count": 30,
     "metadata": {},
     "output_type": "execute_result"
    }
   ],
   "source": [
    "s=\"PYTHON\"\n",
    "s[0:5]"
   ]
  },
  {
   "cell_type": "code",
   "execution_count": 32,
   "id": "bd2eb2a8",
   "metadata": {},
   "outputs": [
    {
     "data": {
      "text/plain": [
       "'P'"
      ]
     },
     "execution_count": 32,
     "metadata": {},
     "output_type": "execute_result"
    }
   ],
   "source": [
    "s=\"PYTHON\"\n",
    "s[0:1]"
   ]
  },
  {
   "cell_type": "code",
   "execution_count": 33,
   "id": "1b70abaa",
   "metadata": {},
   "outputs": [
    {
     "data": {
      "text/plain": [
       "'PYTH'"
      ]
     },
     "execution_count": 33,
     "metadata": {},
     "output_type": "execute_result"
    }
   ],
   "source": [
    "s=\"PYTHON\"\n",
    "s[-6:-2]"
   ]
  },
  {
   "cell_type": "code",
   "execution_count": 34,
   "id": "dab51301",
   "metadata": {},
   "outputs": [
    {
     "data": {
      "text/plain": [
       "'YT'"
      ]
     },
     "execution_count": 34,
     "metadata": {},
     "output_type": "execute_result"
    }
   ],
   "source": [
    "s[-5:-3]"
   ]
  },
  {
   "cell_type": "code",
   "execution_count": 35,
   "id": "09f647be",
   "metadata": {},
   "outputs": [
    {
     "data": {
      "text/plain": [
       "'PYT'"
      ]
     },
     "execution_count": 35,
     "metadata": {},
     "output_type": "execute_result"
    }
   ],
   "source": [
    "s[-6:-3]"
   ]
  },
  {
   "cell_type": "code",
   "execution_count": 36,
   "id": "dce859d6",
   "metadata": {},
   "outputs": [
    {
     "data": {
      "text/plain": [
       "'TH'"
      ]
     },
     "execution_count": 36,
     "metadata": {},
     "output_type": "execute_result"
    }
   ],
   "source": [
    "s=\"PYTHON\"\n",
    "s[2:-2]"
   ]
  },
  {
   "cell_type": "code",
   "execution_count": 37,
   "id": "bcb9328e",
   "metadata": {},
   "outputs": [
    {
     "data": {
      "text/plain": [
       "'YTH'"
      ]
     },
     "execution_count": 37,
     "metadata": {},
     "output_type": "execute_result"
    }
   ],
   "source": [
    "s=\"PYTHON\"\n",
    "s[1:-2]"
   ]
  },
  {
   "cell_type": "code",
   "execution_count": 39,
   "id": "279ee868",
   "metadata": {},
   "outputs": [
    {
     "data": {
      "text/plain": [
       "'PYT'"
      ]
     },
     "execution_count": 39,
     "metadata": {},
     "output_type": "execute_result"
    }
   ],
   "source": [
    "s=\"PYTHON\"\n",
    "s[-6:3]"
   ]
  },
  {
   "cell_type": "code",
   "execution_count": 40,
   "id": "c293455b",
   "metadata": {},
   "outputs": [
    {
     "data": {
      "text/plain": [
       "'PYTHON'"
      ]
     },
     "execution_count": 40,
     "metadata": {},
     "output_type": "execute_result"
    }
   ],
   "source": [
    "s=\"PYTHON\"\n",
    "s[-10:]"
   ]
  },
  {
   "cell_type": "code",
   "execution_count": 41,
   "id": "4d120905",
   "metadata": {},
   "outputs": [
    {
     "data": {
      "text/plain": [
       "'PYTHON'"
      ]
     },
     "execution_count": 41,
     "metadata": {},
     "output_type": "execute_result"
    }
   ],
   "source": [
    "s=\"PYTHON\"\n",
    "s[-100:123]"
   ]
  },
  {
   "cell_type": "code",
   "execution_count": 42,
   "id": "6ba5a79c",
   "metadata": {},
   "outputs": [
    {
     "data": {
      "text/plain": [
       "'PYTHON'"
      ]
     },
     "execution_count": 42,
     "metadata": {},
     "output_type": "execute_result"
    }
   ],
   "source": [
    "s[:]"
   ]
  },
  {
   "cell_type": "code",
   "execution_count": 43,
   "id": "2ef74993",
   "metadata": {},
   "outputs": [
    {
     "data": {
      "text/plain": [
       "'PYTHON'"
      ]
     },
     "execution_count": 43,
     "metadata": {},
     "output_type": "execute_result"
    }
   ],
   "source": [
    "s[0:6]"
   ]
  },
  {
   "cell_type": "code",
   "execution_count": 46,
   "id": "a3ea097e",
   "metadata": {},
   "outputs": [
    {
     "data": {
      "text/plain": [
       "'PYTHON'"
      ]
     },
     "execution_count": 46,
     "metadata": {},
     "output_type": "execute_result"
    }
   ],
   "source": [
    "s[-123:]"
   ]
  },
  {
   "cell_type": "code",
   "execution_count": 47,
   "id": "4ab32852",
   "metadata": {},
   "outputs": [
    {
     "data": {
      "text/plain": [
       "'PYTHO'"
      ]
     },
     "execution_count": 47,
     "metadata": {},
     "output_type": "execute_result"
    }
   ],
   "source": [
    "s=\"PYTHON\"\n",
    "s[-6:-1]"
   ]
  },
  {
   "cell_type": "code",
   "execution_count": 51,
   "id": "4be5e0dd",
   "metadata": {},
   "outputs": [
    {
     "data": {
      "text/plain": [
       "'PH'"
      ]
     },
     "execution_count": 51,
     "metadata": {},
     "output_type": "execute_result"
    }
   ],
   "source": [
    "s=\"PYTHON\"\n",
    "s[0:6:3]"
   ]
  },
  {
   "cell_type": "code",
   "execution_count": 52,
   "id": "93a59d71",
   "metadata": {},
   "outputs": [
    {
     "data": {
      "text/plain": [
       "'PTO'"
      ]
     },
     "execution_count": 52,
     "metadata": {},
     "output_type": "execute_result"
    }
   ],
   "source": [
    "s=\"PYTHON\"\n",
    "s[0:6:2]"
   ]
  },
  {
   "cell_type": "code",
   "execution_count": 54,
   "id": "0c9914aa",
   "metadata": {},
   "outputs": [
    {
     "data": {
      "text/plain": [
       "'PYTHON'"
      ]
     },
     "execution_count": 54,
     "metadata": {},
     "output_type": "execute_result"
    }
   ],
   "source": [
    "s=\"PYTHON\"\n",
    "s[::]"
   ]
  },
  {
   "cell_type": "code",
   "execution_count": 55,
   "id": "b2aa032c",
   "metadata": {},
   "outputs": [
    {
     "data": {
      "text/plain": [
       "'PYTHON'"
      ]
     },
     "execution_count": 55,
     "metadata": {},
     "output_type": "execute_result"
    }
   ],
   "source": [
    "s=\"PYTHON\"\n",
    "s[::1]"
   ]
  },
  {
   "cell_type": "code",
   "execution_count": 56,
   "id": "06e20a58",
   "metadata": {},
   "outputs": [
    {
     "data": {
      "text/plain": [
       "'PTO'"
      ]
     },
     "execution_count": 56,
     "metadata": {},
     "output_type": "execute_result"
    }
   ],
   "source": [
    "s=\"PYTHON\"\n",
    "s[::2]"
   ]
  },
  {
   "cell_type": "code",
   "execution_count": 57,
   "id": "61996ace",
   "metadata": {},
   "outputs": [
    {
     "data": {
      "text/plain": [
       "'PO'"
      ]
     },
     "execution_count": 57,
     "metadata": {},
     "output_type": "execute_result"
    }
   ],
   "source": [
    "s=\"PYTHON\"\n",
    "s[::4]"
   ]
  },
  {
   "cell_type": "code",
   "execution_count": 58,
   "id": "e21d6d19",
   "metadata": {},
   "outputs": [
    {
     "data": {
      "text/plain": [
       "'PN'"
      ]
     },
     "execution_count": 58,
     "metadata": {},
     "output_type": "execute_result"
    }
   ],
   "source": [
    "s=\"PYTHON\"\n",
    "s[::5]"
   ]
  },
  {
   "cell_type": "code",
   "execution_count": 59,
   "id": "099fed53",
   "metadata": {},
   "outputs": [
    {
     "data": {
      "text/plain": [
       "'PYTHO'"
      ]
     },
     "execution_count": 59,
     "metadata": {},
     "output_type": "execute_result"
    }
   ],
   "source": [
    "s=\"PYTHON\"\n",
    "s[-6:-1:1]\n"
   ]
  },
  {
   "cell_type": "code",
   "execution_count": 60,
   "id": "03def659",
   "metadata": {},
   "outputs": [
    {
     "data": {
      "text/plain": [
       "'PTO'"
      ]
     },
     "execution_count": 60,
     "metadata": {},
     "output_type": "execute_result"
    }
   ],
   "source": [
    "s=\"PYTHON\"\n",
    "s[-6:-1:2]"
   ]
  },
  {
   "cell_type": "code",
   "execution_count": 63,
   "id": "646247c4",
   "metadata": {},
   "outputs": [
    {
     "data": {
      "text/plain": [
       "'YO'"
      ]
     },
     "execution_count": 63,
     "metadata": {},
     "output_type": "execute_result"
    }
   ],
   "source": [
    "s=\"PYTHON\"\n",
    "s[-5:-1:3]"
   ]
  },
  {
   "cell_type": "code",
   "execution_count": 66,
   "id": "4e133032",
   "metadata": {},
   "outputs": [
    {
     "data": {
      "text/plain": [
       "'PYTHON'"
      ]
     },
     "execution_count": 66,
     "metadata": {},
     "output_type": "execute_result"
    }
   ],
   "source": [
    "s[-6::]"
   ]
  },
  {
   "cell_type": "code",
   "execution_count": 67,
   "id": "508230c5",
   "metadata": {},
   "outputs": [
    {
     "data": {
      "text/plain": [
       "'P'"
      ]
     },
     "execution_count": 67,
     "metadata": {},
     "output_type": "execute_result"
    }
   ],
   "source": [
    "s[-6:1]"
   ]
  },
  {
   "cell_type": "code",
   "execution_count": 71,
   "id": "8e08ec30",
   "metadata": {},
   "outputs": [
    {
     "data": {
      "text/plain": [
       "'PTO'"
      ]
     },
     "execution_count": 71,
     "metadata": {},
     "output_type": "execute_result"
    }
   ],
   "source": [
    "s[-6:-1:2]"
   ]
  },
  {
   "cell_type": "code",
   "execution_count": 82,
   "id": "a0aab019",
   "metadata": {},
   "outputs": [
    {
     "data": {
      "text/plain": [
       "'O'"
      ]
     },
     "execution_count": 82,
     "metadata": {},
     "output_type": "execute_result"
    }
   ],
   "source": [
    "s=\"PYTHON\"\n",
    "s[4:1:-2]"
   ]
  },
  {
   "cell_type": "code",
   "execution_count": 83,
   "id": "97cae5d0",
   "metadata": {},
   "outputs": [
    {
     "data": {
      "text/plain": [
       "'NOHTY'"
      ]
     },
     "execution_count": 83,
     "metadata": {},
     "output_type": "execute_result"
    }
   ],
   "source": [
    "s=\"PYTHON\"\n",
    "s[-1:-6:-1]"
   ]
  },
  {
   "cell_type": "code",
   "execution_count": 84,
   "id": "3f8fd520",
   "metadata": {},
   "outputs": [
    {
     "data": {
      "text/plain": [
       "'NOHT'"
      ]
     },
     "execution_count": 84,
     "metadata": {},
     "output_type": "execute_result"
    }
   ],
   "source": [
    "s=\"PYTHON\"\n",
    "s[-1:-5:-1]"
   ]
  },
  {
   "cell_type": "code",
   "execution_count": 85,
   "id": "324ea2d4",
   "metadata": {},
   "outputs": [
    {
     "data": {
      "text/plain": [
       "'NOHTYP'"
      ]
     },
     "execution_count": 85,
     "metadata": {},
     "output_type": "execute_result"
    }
   ],
   "source": [
    "s=\"PYTHON\"\n",
    "s[-1:-7:-1]"
   ]
  },
  {
   "cell_type": "code",
   "execution_count": 86,
   "id": "c4c159e0",
   "metadata": {},
   "outputs": [
    {
     "data": {
      "text/plain": [
       "'NT'"
      ]
     },
     "execution_count": 86,
     "metadata": {},
     "output_type": "execute_result"
    }
   ],
   "source": [
    "s=\"PYTHON\"\n",
    "s[-1:-7:-3]"
   ]
  },
  {
   "cell_type": "code",
   "execution_count": 87,
   "id": "0a79ee0e",
   "metadata": {},
   "outputs": [
    {
     "data": {
      "text/plain": [
       "'NHY'"
      ]
     },
     "execution_count": 87,
     "metadata": {},
     "output_type": "execute_result"
    }
   ],
   "source": [
    "s=\"PYTHON\"\n",
    "s[-1:-7:-2]"
   ]
  },
  {
   "cell_type": "code",
   "execution_count": 89,
   "id": "1be55752",
   "metadata": {},
   "outputs": [],
   "source": [
    "s=\"mom\"\n",
    "s=s[::-1]"
   ]
  },
  {
   "cell_type": "markdown",
   "id": "3e148a87",
   "metadata": {},
   "source": [
    "$ByTES$"
   ]
  },
  {
   "cell_type": "code",
   "execution_count": 93,
   "id": "dcc973f4",
   "metadata": {},
   "outputs": [
    {
     "name": "stdout",
     "output_type": "stream",
     "text": [
      "[1, 20, 23, 489, 3990, 388] <class 'list'>\n"
     ]
    },
    {
     "ename": "ValueError",
     "evalue": "bytes must be in range(0, 256)",
     "output_type": "error",
     "traceback": [
      "\u001b[1;31m---------------------------------------------------------------------------\u001b[0m",
      "\u001b[1;31mValueError\u001b[0m                                Traceback (most recent call last)",
      "Cell \u001b[1;32mIn[93], line 3\u001b[0m\n\u001b[0;32m      1\u001b[0m lst\u001b[38;5;241m=\u001b[39m[\u001b[38;5;241m1\u001b[39m,\u001b[38;5;241m20\u001b[39m,\u001b[38;5;241m23\u001b[39m,\u001b[38;5;241m489\u001b[39m,\u001b[38;5;241m3990\u001b[39m,\u001b[38;5;241m388\u001b[39m]\n\u001b[0;32m      2\u001b[0m \u001b[38;5;28mprint\u001b[39m(lst,\u001b[38;5;28mtype\u001b[39m(lst))\n\u001b[1;32m----> 3\u001b[0m b\u001b[38;5;241m=\u001b[39m\u001b[38;5;28mbytes\u001b[39m(lst)\n",
      "\u001b[1;31mValueError\u001b[0m: bytes must be in range(0, 256)"
     ]
    }
   ],
   "source": [
    "lst=[1,20,23,489,3990,388]\n",
    "print(lst,type(lst))\n",
    "b=bytes(lst)"
   ]
  },
  {
   "cell_type": "code",
   "execution_count": 97,
   "id": "3c97bfef",
   "metadata": {},
   "outputs": [
    {
     "name": "stdout",
     "output_type": "stream",
     "text": [
      "[1, 20, 23, 4, 90, 35] <class 'list'>\n",
      "b'\\x01\\x14\\x17\\x04Z#' <class 'bytes'>\n"
     ]
    }
   ],
   "source": [
    "lst=[1,20,23,4,90,35]\n",
    "print(lst,type(lst))\n",
    "b=bytes(lst)\n",
    "print(b,type(b))"
   ]
  },
  {
   "cell_type": "markdown",
   "id": "d2489154",
   "metadata": {},
   "source": [
    "$Shallow copy$"
   ]
  },
  {
   "cell_type": "code",
   "execution_count": 103,
   "id": "6bf23da9",
   "metadata": {},
   "outputs": [
    {
     "name": "stdout",
     "output_type": "stream",
     "text": [
      "[10, 'RS'] <class 'list'> 1654307609408\n",
      "[10, 'RS'] <class 'list'> 1654307609600\n",
      "[10, 'RS', 'PYTHON']\n",
      "[10, 45, 'RS']\n"
     ]
    }
   ],
   "source": [
    "lst1=[10,\"RS\"]\n",
    "print(lst1,type(lst1),id(lst1))\n",
    "lst2=lst1.copy()\n",
    "print(lst2,type(lst2),id(lst2))\n",
    "lst1.append(\"PYTHON\")\n",
    "lst2.insert(1,45)\n",
    "print(lst1)\n",
    "print(lst2)"
   ]
  },
  {
   "cell_type": "markdown",
   "id": "d65a9ddb",
   "metadata": {},
   "source": [
    "$DEEP COPY$"
   ]
  },
  {
   "cell_type": "code",
   "execution_count": 110,
   "id": "1027bac0",
   "metadata": {},
   "outputs": [
    {
     "name": "stdout",
     "output_type": "stream",
     "text": [
      "[1, 3, 6, 7, 8]\n"
     ]
    }
   ],
   "source": [
    "lst1=[1,3,6,7,8]\n",
    "lst2=lst1\n",
    "print(lst2)\n"
   ]
  },
  {
   "cell_type": "code",
   "execution_count": 112,
   "id": "6055bec5",
   "metadata": {},
   "outputs": [
    {
     "name": "stdout",
     "output_type": "stream",
     "text": [
      "[1, 3, 6, 7, 8, 5, 5]\n",
      "[1, 3, 6, 7, 8, 5, 5]\n"
     ]
    }
   ],
   "source": [
    "lst2.append(5)\n",
    "print(lst1)\n",
    "print(lst2)"
   ]
  },
  {
   "cell_type": "markdown",
   "id": "c60f6422",
   "metadata": {},
   "source": [
    "$ByteArray$"
   ]
  },
  {
   "cell_type": "code",
   "execution_count": 117,
   "id": "32ff593d",
   "metadata": {},
   "outputs": [
    {
     "name": "stdout",
     "output_type": "stream",
     "text": [
      "(10, 23, 40, 5, 39, 38) <class 'tuple'>\n",
      "bytearray(b\"\\n\\x17(\\x05\\'&\") <class 'bytearray'> 1654292980208\n"
     ]
    }
   ],
   "source": [
    "tp1=(10,23,40,5,39,38)\n",
    "print(tp1,type(tp1))\n",
    "b=bytearray(tp1)\n",
    "print(b,type(b),id(b))"
   ]
  },
  {
   "cell_type": "code",
   "execution_count": 118,
   "id": "e64020a7",
   "metadata": {},
   "outputs": [
    {
     "name": "stdout",
     "output_type": "stream",
     "text": [
      "bytearray(b\"-\\x17(\\x05\\'&\") <class 'bytearray'> 1654292980208\n"
     ]
    }
   ],
   "source": [
    "b[0]=45\n",
    "print(b,type(b),id(b))\n"
   ]
  },
  {
   "cell_type": "markdown",
   "id": "5509a420",
   "metadata": {},
   "source": [
    "$Range$"
   ]
  },
  {
   "cell_type": "code",
   "execution_count": 122,
   "id": "a1d0e256",
   "metadata": {},
   "outputs": [
    {
     "name": "stdout",
     "output_type": "stream",
     "text": [
      "range(0, 7) <class 'range'>\n",
      "0\n",
      "1\n",
      "2\n",
      "3\n",
      "4\n",
      "5\n",
      "6\n"
     ]
    }
   ],
   "source": [
    "r=range(7)\n",
    "print(r,type(r))\n",
    "for k in r:\n",
    "    print(k)"
   ]
  },
  {
   "cell_type": "code",
   "execution_count": 124,
   "id": "548c24eb",
   "metadata": {},
   "outputs": [
    {
     "name": "stdout",
     "output_type": "stream",
     "text": [
      "0\n",
      "1\n",
      "2\n",
      "3\n",
      "4\n",
      "5\n"
     ]
    }
   ],
   "source": [
    "for v in range(6): #End-1 =6-1=5\n",
    "    print(v)"
   ]
  },
  {
   "cell_type": "code",
   "execution_count": 125,
   "id": "9f14cab5",
   "metadata": {},
   "outputs": [
    {
     "name": "stdout",
     "output_type": "stream",
     "text": [
      "10\n",
      "11\n",
      "12\n",
      "13\n",
      "14\n",
      "15\n"
     ]
    }
   ],
   "source": [
    "r=range(10,16) #Range(Begin,End-1)\n",
    "for v in r:\n",
    "    print(v)"
   ]
  },
  {
   "cell_type": "code",
   "execution_count": 127,
   "id": "3a2be602",
   "metadata": {},
   "outputs": [
    {
     "name": "stdout",
     "output_type": "stream",
     "text": [
      "10\n",
      "12\n",
      "14\n",
      "16\n",
      "18\n",
      "20\n"
     ]
    }
   ],
   "source": [
    "#Range(begin,End,step)\n",
    "r=range(10,22,2)  # It does not print 22 becoz end-1 so ot will print upto 20\n",
    "for v in r:\n",
    "    print(v)"
   ]
  },
  {
   "cell_type": "code",
   "execution_count": 128,
   "id": "216ec25e",
   "metadata": {},
   "outputs": [
    {
     "name": "stdout",
     "output_type": "stream",
     "text": [
      "10\n",
      "12\n",
      "14\n",
      "16\n",
      "18\n"
     ]
    }
   ],
   "source": [
    "#Range(begin,End,step) #20-1=19   so it will print upto 18 only\n",
    "r=range(10,20,2)     \n",
    "for v in r:\n",
    "    print(v)"
   ]
  },
  {
   "cell_type": "code",
   "execution_count": 132,
   "id": "3736e575",
   "metadata": {},
   "outputs": [
    {
     "name": "stdout",
     "output_type": "stream",
     "text": [
      "100\n",
      "102\n",
      "104\n",
      "106\n",
      "108\n",
      "110\n"
     ]
    }
   ],
   "source": [
    "\n",
    "r=range(100,111,2)\n",
    "for val in r:\n",
    "    print(val)"
   ]
  },
  {
   "cell_type": "code",
   "execution_count": 133,
   "id": "d663aaaf",
   "metadata": {},
   "outputs": [
    {
     "data": {
      "text/plain": [
       "100"
      ]
     },
     "execution_count": 133,
     "metadata": {},
     "output_type": "execute_result"
    }
   ],
   "source": [
    "r[0]"
   ]
  },
  {
   "cell_type": "code",
   "execution_count": 134,
   "id": "84064c2c",
   "metadata": {},
   "outputs": [
    {
     "data": {
      "text/plain": [
       "range(100, 106, 2)"
      ]
     },
     "execution_count": 134,
     "metadata": {},
     "output_type": "execute_result"
    }
   ],
   "source": [
    "r[0:3]"
   ]
  },
  {
   "cell_type": "code",
   "execution_count": 136,
   "id": "7b7f1e7d",
   "metadata": {},
   "outputs": [
    {
     "name": "stdout",
     "output_type": "stream",
     "text": [
      "100\n",
      "102\n",
      "104\n"
     ]
    }
   ],
   "source": [
    "for val in r[0:3]:\n",
    "    print(val)"
   ]
  },
  {
   "cell_type": "code",
   "execution_count": 139,
   "id": "01e9a814",
   "metadata": {},
   "outputs": [
    {
     "name": "stdout",
     "output_type": "stream",
     "text": [
      "100\n",
      "102\n",
      "104\n",
      "106\n",
      "108\n",
      "110\n",
      "112\n"
     ]
    }
   ],
   "source": [
    "r=range(100,114)\n",
    "for val in r[::2]:\n",
    "    print(val)"
   ]
  },
  {
   "cell_type": "code",
   "execution_count": 143,
   "id": "c29e13f9",
   "metadata": {},
   "outputs": [
    {
     "name": "stdout",
     "output_type": "stream",
     "text": [
      "100\n",
      "103\n",
      "106\n",
      "109\n",
      "112\n"
     ]
    }
   ],
   "source": [
    "r=range(100,114)\n",
    "for val in r[::3]:\n",
    "    print(val)"
   ]
  },
  {
   "cell_type": "code",
   "execution_count": 144,
   "id": "c629c130",
   "metadata": {},
   "outputs": [
    {
     "name": "stdout",
     "output_type": "stream",
     "text": [
      "100\n",
      "105\n",
      "110\n"
     ]
    }
   ],
   "source": [
    "r=range(100,114)\n",
    "for val in r[::5]:\n",
    "    print(val)"
   ]
  },
  {
   "cell_type": "code",
   "execution_count": 147,
   "id": "12346bef",
   "metadata": {},
   "outputs": [
    {
     "name": "stdout",
     "output_type": "stream",
     "text": [
      "101\n",
      "106\n",
      "111\n"
     ]
    }
   ],
   "source": [
    "r=range(100,114)\n",
    "for val in r[1::5]:\n",
    "    print(val)"
   ]
  },
  {
   "cell_type": "code",
   "execution_count": 149,
   "id": "7138ae7a",
   "metadata": {},
   "outputs": [
    {
     "name": "stdout",
     "output_type": "stream",
     "text": [
      "101\n",
      "102\n",
      "103\n",
      "104\n",
      "105\n",
      "106\n",
      "107\n"
     ]
    }
   ],
   "source": [
    "r=range(100,114)\n",
    "for val in r[1:8]:\n",
    "    print(val)"
   ]
  },
  {
   "cell_type": "code",
   "execution_count": 153,
   "id": "7116bb36",
   "metadata": {},
   "outputs": [
    {
     "name": "stdout",
     "output_type": "stream",
     "text": [
      "-1\n",
      "-2\n",
      "-3\n",
      "-4\n",
      "-5\n",
      "-6\n",
      "-7\n",
      "-8\n",
      "-9\n"
     ]
    }
   ],
   "source": [
    "for val in range(-1,-10,-1):\n",
    "    print(val)"
   ]
  },
  {
   "cell_type": "code",
   "execution_count": 157,
   "id": "80c03f0e",
   "metadata": {},
   "outputs": [],
   "source": [
    "for val in range(-1,-10):\n",
    "    print(val)"
   ]
  },
  {
   "cell_type": "code",
   "execution_count": 154,
   "id": "fd549ac8",
   "metadata": {},
   "outputs": [
    {
     "name": "stdout",
     "output_type": "stream",
     "text": [
      "-1\n",
      "-3\n",
      "-5\n",
      "-7\n",
      "-9\n"
     ]
    }
   ],
   "source": [
    "for val in range(-1,-10,-2):\n",
    "    print(val)"
   ]
  },
  {
   "cell_type": "code",
   "execution_count": 155,
   "id": "361d129b",
   "metadata": {},
   "outputs": [
    {
     "name": "stdout",
     "output_type": "stream",
     "text": [
      "-1\n",
      "-4\n",
      "-7\n"
     ]
    }
   ],
   "source": [
    "for val in range(-1,-10,-3):\n",
    "    print(val)"
   ]
  },
  {
   "cell_type": "code",
   "execution_count": 161,
   "id": "53169ef0",
   "metadata": {},
   "outputs": [
    {
     "name": "stdout",
     "output_type": "stream",
     "text": [
      "-10\n",
      "-20\n",
      "-30\n",
      "-40\n",
      "-50\n"
     ]
    }
   ],
   "source": [
    "for v in range(-10,-51,-10):\n",
    "    print(v)"
   ]
  },
  {
   "cell_type": "code",
   "execution_count": 170,
   "id": "d95df23b",
   "metadata": {},
   "outputs": [
    {
     "name": "stdout",
     "output_type": "stream",
     "text": [
      "-100\n",
      "-90\n",
      "-80\n",
      "-70\n",
      "-60\n",
      "-50\n"
     ]
    }
   ],
   "source": [
    "for v in range(-100,-49,10):\n",
    "    print(v)"
   ]
  },
  {
   "cell_type": "code",
   "execution_count": 196,
   "id": "d18eaa47",
   "metadata": {},
   "outputs": [
    {
     "name": "stdout",
     "output_type": "stream",
     "text": [
      "-100\n",
      "-90\n",
      "-80\n",
      "-70\n"
     ]
    }
   ],
   "source": [
    "for v in range(-100,-69,10):\n",
    "    print(v)"
   ]
  },
  {
   "cell_type": "code",
   "execution_count": 191,
   "id": "88570065",
   "metadata": {},
   "outputs": [
    {
     "name": "stdout",
     "output_type": "stream",
     "text": [
      "10\n",
      "range(100, 10, -15)\n"
     ]
    },
    {
     "ename": "TypeError",
     "evalue": "'NoneType' object is not subscriptable",
     "output_type": "error",
     "traceback": [
      "\u001b[1;31m---------------------------------------------------------------------------\u001b[0m",
      "\u001b[1;31mTypeError\u001b[0m                                 Traceback (most recent call last)",
      "Cell \u001b[1;32mIn[191], line 3\u001b[0m\n\u001b[0;32m      1\u001b[0m \u001b[38;5;28;01mfor\u001b[39;00m val \u001b[38;5;129;01min\u001b[39;00m \u001b[38;5;28mrange\u001b[39m(\u001b[38;5;241m10\u001b[39m,\u001b[38;5;241m0\u001b[39m,\u001b[38;5;241m-\u001b[39m\u001b[38;5;241m1\u001b[39m):\n\u001b[0;32m      2\u001b[0m     \u001b[38;5;28mprint\u001b[39m(val)\n\u001b[1;32m----> 3\u001b[0m     \u001b[38;5;28mprint\u001b[39m(\u001b[38;5;28mrange\u001b[39m(\u001b[38;5;241m100\u001b[39m,\u001b[38;5;241m10\u001b[39m,\u001b[38;5;241m-\u001b[39m\u001b[38;5;241m15\u001b[39m))[::\u001b[38;5;241m-\u001b[39m\u001b[38;5;241m1\u001b[39m][\u001b[38;5;241m2\u001b[39m]\n",
      "\u001b[1;31mTypeError\u001b[0m: 'NoneType' object is not subscriptable"
     ]
    }
   ],
   "source": [
    "for val in range(10,0,-1):\n",
    "    print(val)\n",
    "  "
   ]
  },
  {
   "cell_type": "code",
   "execution_count": 1,
   "id": "7aece784",
   "metadata": {},
   "outputs": [
    {
     "name": "stdout",
     "output_type": "stream",
     "text": [
      "100\n",
      "90\n",
      "80\n",
      "70\n",
      "60\n"
     ]
    }
   ],
   "source": [
    "for val in range(100,51,-10):\n",
    "    print(val)\n",
    "  "
   ]
  },
  {
   "cell_type": "code",
   "execution_count": 12,
   "id": "cb57f109",
   "metadata": {},
   "outputs": [
    {
     "name": "stdout",
     "output_type": "stream",
     "text": [
      "100 ,98 ,96 ,94 ,92 ,90 ,88 ,86 ,84 ,82 ,80 ,78 ,76 ,74 ,72 ,70 ,68 ,66 ,64 ,62 ,60 ,58 ,56 ,54 ,52 ,50 ,48 ,46 ,44 ,42 ,40 ,38 ,36 ,34 ,32 ,30 ,28 ,26 ,24 ,22 ,"
     ]
    }
   ],
   "source": [
    "for val in range(100,20,-2):\n",
    "    print(val,end=\" ,\")"
   ]
  },
  {
   "cell_type": "code",
   "execution_count": null,
   "id": "2131479b",
   "metadata": {},
   "outputs": [],
   "source": []
  }
 ],
 "metadata": {
  "kernelspec": {
   "display_name": "Python 3 (ipykernel)",
   "language": "python",
   "name": "python3"
  },
  "language_info": {
   "codemirror_mode": {
    "name": "ipython",
    "version": 3
   },
   "file_extension": ".py",
   "mimetype": "text/x-python",
   "name": "python",
   "nbconvert_exporter": "python",
   "pygments_lexer": "ipython3",
   "version": "3.11.4"
  }
 },
 "nbformat": 4,
 "nbformat_minor": 5
}
