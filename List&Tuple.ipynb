{
 "cells": [
  {
   "cell_type": "code",
   "execution_count": 1,
   "id": "2a895d6c",
   "metadata": {},
   "outputs": [
    {
     "name": "stdout",
     "output_type": "stream",
     "text": [
      "0 1 2 3 4 5 6 7 8 9 "
     ]
    }
   ],
   "source": [
    "i=0\n",
    "while True:\n",
    "    print(i,end=' ')\n",
    "    i=i+1\n",
    "    if i==10:\n",
    "        break"
   ]
  },
  {
   "cell_type": "code",
   "execution_count": 2,
   "id": "c95b4147",
   "metadata": {},
   "outputs": [
    {
     "name": "stdout",
     "output_type": "stream",
     "text": [
      "0 1 2 3 4 5 6 7 8 9 "
     ]
    }
   ],
   "source": [
    "i=0\n",
    "while i!=10:\n",
    "    print(i,end=' ')\n",
    "    i=i+1"
   ]
  },
  {
   "cell_type": "code",
   "execution_count": null,
   "id": "465e5b36",
   "metadata": {},
   "outputs": [],
   "source": [
    "s=0\n",
    "for i in range(1,11)\n",
    "    s=s+i\n",
    "    print(i,end=' ')"
   ]
  },
  {
   "cell_type": "code",
   "execution_count": 1,
   "id": "69542df0",
   "metadata": {},
   "outputs": [
    {
     "data": {
      "text/plain": [
       "int"
      ]
     },
     "execution_count": 1,
     "metadata": {},
     "output_type": "execute_result"
    }
   ],
   "source": [
    "a=10\n",
    "type(a)"
   ]
  },
  {
   "cell_type": "code",
   "execution_count": 6,
   "id": "4f91b3d7",
   "metadata": {},
   "outputs": [
    {
     "name": "stdout",
     "output_type": "stream",
     "text": [
      "[1, 30, 24, 89, 36, 3, 7, '8']\n"
     ]
    }
   ],
   "source": [
    "list1=[1,30,24,89,36,3,7]\n",
    "list1.append('8')\n",
    "print(list1)"
   ]
  },
  {
   "cell_type": "code",
   "execution_count": 10,
   "id": "7266756c",
   "metadata": {},
   "outputs": [
    {
     "data": {
      "text/plain": [
       "[]"
      ]
     },
     "execution_count": 10,
     "metadata": {},
     "output_type": "execute_result"
    }
   ],
   "source": [
    "list1=[1,30,24,\"RS\",36,\"PYTHON\",7]\n",
    "list1.clear()\n",
    "list1"
   ]
  },
  {
   "cell_type": "code",
   "execution_count": 11,
   "id": "777242bf",
   "metadata": {},
   "outputs": [
    {
     "data": {
      "text/plain": [
       "[30, 24, 'RS', 36, 'PYTHON', 7]"
      ]
     },
     "execution_count": 11,
     "metadata": {},
     "output_type": "execute_result"
    }
   ],
   "source": [
    "list1=[1,30,24,\"RS\",36,\"PYTHON\",7]\n",
    "list1.remove(1)\n",
    "list1"
   ]
  },
  {
   "cell_type": "code",
   "execution_count": 12,
   "id": "4860981f",
   "metadata": {},
   "outputs": [
    {
     "data": {
      "text/plain": [
       "[1, 30, 'RS', 36, 'PYTHON', 7]"
      ]
     },
     "execution_count": 12,
     "metadata": {},
     "output_type": "execute_result"
    }
   ],
   "source": [
    "list1=[1,30,24,\"RS\",36,\"PYTHON\",7]\n",
    "list1.remove(24)\n",
    "list1"
   ]
  },
  {
   "cell_type": "code",
   "execution_count": 15,
   "id": "e16244ea",
   "metadata": {},
   "outputs": [
    {
     "data": {
      "text/plain": [
       "[1, 30, 39, 24, 'RS', 36, 'PYTHON', 7]"
      ]
     },
     "execution_count": 15,
     "metadata": {},
     "output_type": "execute_result"
    }
   ],
   "source": [
    "list1=[1,30,24,\"RS\",36,\"PYTHON\",7]\n",
    "list1.insert(2,39)\n",
    "list1"
   ]
  },
  {
   "cell_type": "code",
   "execution_count": 16,
   "id": "eb99020f",
   "metadata": {},
   "outputs": [
    {
     "data": {
      "text/plain": [
       "[1, 30, 39, 24, 'RS', 36, 1, 'PYTHON', 7]"
      ]
     },
     "execution_count": 16,
     "metadata": {},
     "output_type": "execute_result"
    }
   ],
   "source": [
    "list1.insert(-2,1)\n",
    "list1"
   ]
  },
  {
   "cell_type": "code",
   "execution_count": 11,
   "id": "0fdaa2ab",
   "metadata": {},
   "outputs": [
    {
     "data": {
      "text/plain": [
       "[10, 'Rossum', 23.5, 'python']"
      ]
     },
     "execution_count": 11,
     "metadata": {},
     "output_type": "execute_result"
    }
   ],
   "source": [
    "list1=[10,\"Rossum\",\"python\"]\n",
    "list1.insert(-1,23.5)\n",
    "list1"
   ]
  },
  {
   "cell_type": "code",
   "execution_count": 7,
   "id": "a74a5316",
   "metadata": {},
   "outputs": [
    {
     "data": {
      "text/plain": [
       "[10, 23.5, 'Rossum', 'python']"
      ]
     },
     "execution_count": 7,
     "metadata": {},
     "output_type": "execute_result"
    }
   ],
   "source": [
    "list1=[10,\"Rossum\",\"python\"]\n",
    "list1.insert(1,23.5)\n",
    "list1"
   ]
  },
  {
   "cell_type": "code",
   "execution_count": 12,
   "id": "248cd52a",
   "metadata": {},
   "outputs": [
    {
     "data": {
      "text/plain": [
       "[10, 3.5, 'Rossum', 'python']"
      ]
     },
     "execution_count": 12,
     "metadata": {},
     "output_type": "execute_result"
    }
   ],
   "source": [
    "list1=[10,\"Rossum\",\"python\"]\n",
    "list1.insert(-2,3.5)\n",
    "list1"
   ]
  },
  {
   "cell_type": "code",
   "execution_count": null,
   "id": "b842e046",
   "metadata": {},
   "outputs": [],
   "source": [
    "list1=[10,\"Rossum\",\"python\"]\n",
    "list1.insert(-2,3.5)\n",
    "list1"
   ]
  },
  {
   "cell_type": "code",
   "execution_count": 1,
   "id": "9eadc74e",
   "metadata": {},
   "outputs": [
    {
     "name": "stdout",
     "output_type": "stream",
     "text": [
      "(10, 'RS', (17, 18, 16), (77, 45, 67), 'OUTCET') <class 'tuple'>\n"
     ]
    }
   ],
   "source": [
    "sf=(10,\"RS\",(17,18,16),(77,45,67),\"OUTCET\")\n",
    "print(sf,type(sf))"
   ]
  },
  {
   "cell_type": "code",
   "execution_count": 5,
   "id": "e948f9f4",
   "metadata": {},
   "outputs": [
    {
     "data": {
      "text/plain": [
       "'OUTCET'"
      ]
     },
     "execution_count": 5,
     "metadata": {},
     "output_type": "execute_result"
    }
   ],
   "source": [
    "sf[0]\n",
    "sf[2]\n",
    "sf[3]\n",
    "sf[4]"
   ]
  },
  {
   "cell_type": "code",
   "execution_count": 10,
   "id": "ae56d3a4",
   "metadata": {},
   "outputs": [
    {
     "data": {
      "text/plain": [
       "77"
      ]
     },
     "execution_count": 10,
     "metadata": {},
     "output_type": "execute_result"
    }
   ],
   "source": [
    "sf[2][0]\n",
    "sf[2][2]\n",
    "sf[3][0]"
   ]
  },
  {
   "cell_type": "code",
   "execution_count": 14,
   "id": "929edf17",
   "metadata": {},
   "outputs": [
    {
     "data": {
      "text/plain": [
       "('OUTCET', (77, 45, 67), (17, 18, 16), 'RS', 10)"
      ]
     },
     "execution_count": 14,
     "metadata": {},
     "output_type": "execute_result"
    }
   ],
   "source": [
    "sf[0:3]\n",
    "sf[::2]\n",
    "sf[::-1]"
   ]
  },
  {
   "cell_type": "code",
   "execution_count": 16,
   "id": "9a3d6e52",
   "metadata": {},
   "outputs": [
    {
     "name": "stdout",
     "output_type": "stream",
     "text": [
      "[10, 'RS', (17, 18, 16), (77, 45, 67), 'OUTCET'] <class 'list'>\n"
     ]
    }
   ],
   "source": [
    "sf1=list(sf)\n",
    "print(sf1,type(sf1))"
   ]
  },
  {
   "cell_type": "code",
   "execution_count": 23,
   "id": "bc4af801",
   "metadata": {},
   "outputs": [
    {
     "name": "stdout",
     "output_type": "stream",
     "text": [
      "[10, 'RS', (17, 18, 16), (77, 45, 67), 'OUTCET', 12]\n"
     ]
    }
   ],
   "source": [
    "sf1.append(12)\n",
    "print(sf1)"
   ]
  },
  {
   "cell_type": "code",
   "execution_count": 25,
   "id": "4ce62871",
   "metadata": {},
   "outputs": [
    {
     "name": "stdout",
     "output_type": "stream",
     "text": [
      "(10, 'RS', (17, 18, 16), (77, 45, 67), 'OUTCET', 12) <class 'tuple'>\n"
     ]
    }
   ],
   "source": [
    "sf=tuple(sf1)\n",
    "print(sf,type(sf))"
   ]
  },
  {
   "cell_type": "code",
   "execution_count": 30,
   "id": "570a9f70",
   "metadata": {},
   "outputs": [
    {
     "data": {
      "text/plain": [
       "(10, (17, 18, 16), 'OUTCET')"
      ]
     },
     "execution_count": 30,
     "metadata": {},
     "output_type": "execute_result"
    }
   ],
   "source": [
    "sf[4]\n",
    "sf[2][-1]\n",
    "sf[3][-2]\n",
    "sf[::3]\n",
    "sf[::2]"
   ]
  },
  {
   "cell_type": "code",
   "execution_count": 35,
   "id": "9e18eb03",
   "metadata": {},
   "outputs": [
    {
     "name": "stdout",
     "output_type": "stream",
     "text": [
      "['CSE', 'DS', 'SI']\n"
     ]
    }
   ],
   "source": [
    "t1=('SI','CSE','DS')  #Sorted immutable object tuple and sorted the data in the form of LIst\n",
    "k=sorted(t1)\n",
    "print(k)"
   ]
  },
  {
   "cell_type": "code",
   "execution_count": 38,
   "id": "82c63dfd",
   "metadata": {},
   "outputs": [
    {
     "name": "stdout",
     "output_type": "stream",
     "text": [
      "10 <class 'int'>\n"
     ]
    },
    {
     "ename": "TypeError",
     "evalue": "'int' object is not iterable",
     "output_type": "error",
     "traceback": [
      "\u001b[1;31m---------------------------------------------------------------------------\u001b[0m",
      "\u001b[1;31mTypeError\u001b[0m                                 Traceback (most recent call last)",
      "Cell \u001b[1;32mIn[38], line 3\u001b[0m\n\u001b[0;32m      1\u001b[0m a\u001b[38;5;241m=\u001b[39m\u001b[38;5;241m10\u001b[39m\n\u001b[0;32m      2\u001b[0m \u001b[38;5;28mprint\u001b[39m(a,\u001b[38;5;28mtype\u001b[39m(a))\n\u001b[1;32m----> 3\u001b[0m t1\u001b[38;5;241m=\u001b[39m\u001b[38;5;28mtuple\u001b[39m(a)\n\u001b[0;32m      4\u001b[0m \u001b[38;5;28mprint\u001b[39m(t1)\n",
      "\u001b[1;31mTypeError\u001b[0m: 'int' object is not iterable"
     ]
    }
   ],
   "source": [
    "a=10\n",
    "print(a,type(a))\n",
    "t1=tuple(a)\n",
    "print(t1)"
   ]
  },
  {
   "cell_type": "code",
   "execution_count": 40,
   "id": "822ea4f7",
   "metadata": {},
   "outputs": [
    {
     "name": "stdout",
     "output_type": "stream",
     "text": [
      "(10,) <class 'tuple'>\n"
     ]
    }
   ],
   "source": [
    "t1=tuple([a])\n",
    "print(t1,type(t1))"
   ]
  },
  {
   "cell_type": "code",
   "execution_count": 41,
   "id": "684a2cbc",
   "metadata": {},
   "outputs": [
    {
     "name": "stdout",
     "output_type": "stream",
     "text": [
      "('P', 'Y', 'T', 'H', 'O', 'N') <class 'tuple'>\n"
     ]
    }
   ],
   "source": [
    "s=\"PYTHON\"\n",
    "t2=tuple(s)\n",
    "print(t2,type(t2))"
   ]
  },
  {
   "cell_type": "code",
   "execution_count": 44,
   "id": "c6442766",
   "metadata": {},
   "outputs": [
    {
     "name": "stdout",
     "output_type": "stream",
     "text": [
      "('P', 'Y', 'T', 'H', 'O', 'N', 'f', 'b', 'b', 'g', 'v', 'f', 's', 'd', 'y', 'g', 'h') <class 'tuple'>\n",
      "['P', 'Y', 'T', 'H', 'O', 'N', 'f', 'b', 'b', 'g', 'v', 'f', 's', 'd', 'y', 'g', 'h'] <class 'list'>\n"
     ]
    }
   ],
   "source": [
    "s1=\"PYTHONfbbgvfsdygh\"\n",
    "t2=tuple(s1)\n",
    "print(t2,type(t2))\n",
    "t3=list(t2)\n",
    "print(t3,type(t3))"
   ]
  },
  {
   "cell_type": "code",
   "execution_count": null,
   "id": "e9ebc482",
   "metadata": {},
   "outputs": [],
   "source": []
  }
 ],
 "metadata": {
  "kernelspec": {
   "display_name": "Python 3 (ipykernel)",
   "language": "python",
   "name": "python3"
  },
  "language_info": {
   "codemirror_mode": {
    "name": "ipython",
    "version": 3
   },
   "file_extension": ".py",
   "mimetype": "text/x-python",
   "name": "python",
   "nbconvert_exporter": "python",
   "pygments_lexer": "ipython3",
   "version": "3.11.4"
  }
 },
 "nbformat": 4,
 "nbformat_minor": 5
}
