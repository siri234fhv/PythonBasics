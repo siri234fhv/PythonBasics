{
 "cells": [
  {
   "cell_type": "code",
   "execution_count": 12,
   "id": "9bd0a3ac",
   "metadata": {},
   "outputs": [
    {
     "name": "stdout",
     "output_type": "stream",
     "text": [
      "enter a number:35\n",
      "it is an odd number:\n"
     ]
    }
   ],
   "source": [
    "number=eval(input(\"enter a number:\"))\n",
    "\n",
    "if number%2==0:\n",
    "    print(\"it is an even number:\")\n",
    "    \n",
    "else:\n",
    "        print(\"it is an odd number:\")"
   ]
  },
  {
   "cell_type": "code",
   "execution_count": 21,
   "id": "8b56f440",
   "metadata": {},
   "outputs": [
    {
     "name": "stdout",
     "output_type": "stream",
     "text": [
      "enter a number:h\n",
      "name 'h' is not defined\n"
     ]
    }
   ],
   "source": [
    "try:\n",
    "    number=eval(input(\"enter a number:\"))\n",
    "\n",
    "    if number%2==0:\n",
    "        print(\"it is an even number:\")\n",
    "    \n",
    "    else:\n",
    "        print(\"it is an odd number:\")\n",
    "        \n",
    "except Exception as e:            \n",
    "                 print(e)"
   ]
  },
  {
   "cell_type": "code",
   "execution_count": 24,
   "id": "d3014b09",
   "metadata": {},
   "outputs": [
    {
     "name": "stdout",
     "output_type": "stream",
     "text": [
      "enter a number:-1\n",
      "it is a negative number:\n"
     ]
    }
   ],
   "source": [
    "number=eval(input(\"enter a number:\"))\n",
    "if number >=0:\n",
    "    print(\"it is a positive number:\")\n",
    "else:\n",
    "        print(\"it is a negative number:\")"
   ]
  },
  {
   "cell_type": "code",
   "execution_count": null,
   "id": "cf8bf588",
   "metadata": {},
   "outputs": [],
   "source": [
    "#ask the user enter a number ---n\n",
    "#find wether number is positive or negative   ---n>0"
   ]
  },
  {
   "cell_type": "code",
   "execution_count": null,
   "id": "ed8eb2fe",
   "metadata": {},
   "outputs": [],
   "source": [
    "n=eval(input(\"enter a number:\"))\n",
    "if n>=0:\n",
    "    print(\"it is a positive number:\")\n",
    "else:\n",
    "        print(\"it is a negative number:\")"
   ]
  },
  {
   "cell_type": "code",
   "execution_count": 28,
   "id": "599cdabe",
   "metadata": {},
   "outputs": [
    {
     "name": "stdout",
     "output_type": "stream",
     "text": [
      "enter a number:y\n"
     ]
    },
    {
     "ename": "NameError",
     "evalue": "name 'exception' is not defined",
     "output_type": "error",
     "traceback": [
      "\u001b[1;31m---------------------------------------------------------------------------\u001b[0m",
      "\u001b[1;31mNameError\u001b[0m                                 Traceback (most recent call last)",
      "Cell \u001b[1;32mIn[28], line 2\u001b[0m\n\u001b[0;32m      1\u001b[0m \u001b[38;5;28;01mtry\u001b[39;00m:\n\u001b[1;32m----> 2\u001b[0m     n\u001b[38;5;241m=\u001b[39m\u001b[38;5;28meval\u001b[39m(\u001b[38;5;28minput\u001b[39m(\u001b[38;5;124m\"\u001b[39m\u001b[38;5;124menter a number:\u001b[39m\u001b[38;5;124m\"\u001b[39m))\n\u001b[0;32m      3\u001b[0m     \u001b[38;5;28;01mif\u001b[39;00m n\u001b[38;5;241m>\u001b[39m\u001b[38;5;241m=\u001b[39m\u001b[38;5;241m0\u001b[39m:\n",
      "File \u001b[1;32m<string>:1\u001b[0m\n",
      "\u001b[1;31mNameError\u001b[0m: name 'y' is not defined",
      "\nDuring handling of the above exception, another exception occurred:\n",
      "\u001b[1;31mNameError\u001b[0m                                 Traceback (most recent call last)",
      "Cell \u001b[1;32mIn[28], line 7\u001b[0m\n\u001b[0;32m      5\u001b[0m     \u001b[38;5;28;01melse\u001b[39;00m:\n\u001b[0;32m      6\u001b[0m         \u001b[38;5;28mprint\u001b[39m(\u001b[38;5;124m\"\u001b[39m\u001b[38;5;124mit is a negative number:\u001b[39m\u001b[38;5;124m\"\u001b[39m)\n\u001b[1;32m----> 7\u001b[0m \u001b[38;5;28;01mexcept\u001b[39;00m exception \u001b[38;5;28;01mas\u001b[39;00m e:\n\u001b[0;32m      8\u001b[0m     \u001b[38;5;28mprint\u001b[39m(e)\n",
      "\u001b[1;31mNameError\u001b[0m: name 'exception' is not defined"
     ]
    }
   ],
   "source": [
    "try:\n",
    "    n=eval(input(\"enter a number:\"))\n",
    "    if n>=0:\n",
    "        print(\"it is a positive number:\")\n",
    "    else:\n",
    "        print(\"it is a negative number:\")\n",
    "except exception as e:\n",
    "    print(e)"
   ]
  },
  {
   "cell_type": "code",
   "execution_count": 30,
   "id": "6fbfd7ff",
   "metadata": {},
   "outputs": [
    {
     "name": "stdout",
     "output_type": "stream",
     "text": [
      "enter a number:0\n",
      "it is a positive number:\n"
     ]
    }
   ],
   "source": [
    "n=eval(input(\"enter a number:\"))\n",
    "if n>=0:print(\"it is a positive number:\")\n",
    "else:print(\"it is a negative number:\")"
   ]
  },
  {
   "cell_type": "code",
   "execution_count": null,
   "id": "5bf1d708",
   "metadata": {},
   "outputs": [],
   "source": [
    "#ask the user enter a number ---n\n",
    "#find wether number is positive or negative   ---n>0\n",
    "#or wether number is negative n<0\n",
    "#finally if it is zero point zero\n",
    "#wether  morethan 2 conditions  are there\n",
    "\n",
    "only one if & one else\n",
    "#if<condition>:\n",
    "<expression>\n",
    "#elseif<condition>:\n",
    "<expression>\n",
    "else:\n",
    "    <expression>"
   ]
  },
  {
   "cell_type": "code",
   "execution_count": 34,
   "id": "86ee9e5a",
   "metadata": {},
   "outputs": [
    {
     "ename": "SyntaxError",
     "evalue": "expected ':' (1211257730.py, line 4)",
     "output_type": "error",
     "traceback": [
      "\u001b[1;36m  Cell \u001b[1;32mIn[34], line 4\u001b[1;36m\u001b[0m\n\u001b[1;33m    else if n==0:\u001b[0m\n\u001b[1;37m         ^\u001b[0m\n\u001b[1;31mSyntaxError\u001b[0m\u001b[1;31m:\u001b[0m expected ':'\n"
     ]
    }
   ],
   "source": [
    "n=eval(input(\"enter a number:\"))\n",
    "if n>=0:\n",
    "      print(\"it is a positive number:\")\n",
    "else if n==0:\n",
    "      print(\"it is a zero:\")\n",
    "else:\n",
    "      print(\"it is a negative number:\")"
   ]
  },
  {
   "cell_type": "code",
   "execution_count": 45,
   "id": "f8f3c2f4",
   "metadata": {},
   "outputs": [
    {
     "name": "stdout",
     "output_type": "stream",
     "text": [
      "enter a number:GH\n"
     ]
    },
    {
     "ename": "NameError",
     "evalue": "name 'exception' is not defined",
     "output_type": "error",
     "traceback": [
      "\u001b[1;31m---------------------------------------------------------------------------\u001b[0m",
      "\u001b[1;31mNameError\u001b[0m                                 Traceback (most recent call last)",
      "Cell \u001b[1;32mIn[45], line 2\u001b[0m\n\u001b[0;32m      1\u001b[0m \u001b[38;5;28;01mtry\u001b[39;00m:\n\u001b[1;32m----> 2\u001b[0m     n\u001b[38;5;241m=\u001b[39m\u001b[38;5;28meval\u001b[39m(\u001b[38;5;28minput\u001b[39m(\u001b[38;5;124m\"\u001b[39m\u001b[38;5;124menter a number:\u001b[39m\u001b[38;5;124m\"\u001b[39m))\n\u001b[0;32m      3\u001b[0m     \u001b[38;5;28;01mif\u001b[39;00m n\u001b[38;5;241m>\u001b[39m\u001b[38;5;241m=\u001b[39m\u001b[38;5;241m0\u001b[39m:\n",
      "File \u001b[1;32m<string>:1\u001b[0m\n",
      "\u001b[1;31mNameError\u001b[0m: name 'GH' is not defined",
      "\nDuring handling of the above exception, another exception occurred:\n",
      "\u001b[1;31mNameError\u001b[0m                                 Traceback (most recent call last)",
      "Cell \u001b[1;32mIn[45], line 9\u001b[0m\n\u001b[0;32m      7\u001b[0m     \u001b[38;5;28;01melse\u001b[39;00m:\n\u001b[0;32m      8\u001b[0m         \u001b[38;5;28mprint\u001b[39m(\u001b[38;5;124m\"\u001b[39m\u001b[38;5;124mit is a negative number:\u001b[39m\u001b[38;5;124m\"\u001b[39m)\n\u001b[1;32m----> 9\u001b[0m \u001b[38;5;28;01mexcept\u001b[39;00m exception \u001b[38;5;28;01mas\u001b[39;00m e:\n\u001b[0;32m     10\u001b[0m     \u001b[38;5;28mprint\u001b[39m(e)\n",
      "\u001b[1;31mNameError\u001b[0m: name 'exception' is not defined"
     ]
    }
   ],
   "source": [
    "try:\n",
    "    n=eval(input(\"enter a number:\"))\n",
    "    if n>=0:\n",
    "        print(\"it is a positive number:\")\n",
    "    elif n==0:\n",
    "          print(\"it is a zero number:\")\n",
    "    else:\n",
    "        print(\"it is a negative number:\")\n",
    "except exception as e:\n",
    "    print(e)"
   ]
  },
  {
   "cell_type": "code",
   "execution_count": null,
   "id": "9091fe69",
   "metadata": {},
   "outputs": [],
   "source": [
    "#ask the user enter a number\n",
    "#if number=o then print zero\n",
    "#if num=1 print one\n",
    "#if num=2 print two\n",
    "#if num=3 print three\n",
    "#otherwise  print its a number"
   ]
  },
  {
   "cell_type": "code",
   "execution_count": 49,
   "id": "b3dd1d66",
   "metadata": {},
   "outputs": [
    {
     "ename": "IndentationError",
     "evalue": "unexpected indent (2811574180.py, line 2)",
     "output_type": "error",
     "traceback": [
      "\u001b[1;36m  Cell \u001b[1;32mIn[49], line 2\u001b[1;36m\u001b[0m\n\u001b[1;33m    if n==0:\u001b[0m\n\u001b[1;37m    ^\u001b[0m\n\u001b[1;31mIndentationError\u001b[0m\u001b[1;31m:\u001b[0m unexpected indent\n"
     ]
    }
   ],
   "source": [
    "n=eval(input(\"enter a number:\"))\n",
    "    if n==0:\n",
    "    print(\"zero\")\n",
    "    else if n=1:\n",
    "    print(\"one\")\n",
    "    else if n=2:\n",
    "    print(\"two\")\n",
    "    else if n=3:\n",
    "        print(\"three\")\n",
    "else:\n",
    "    print(\"its a number:\")"
   ]
  },
  {
   "cell_type": "code",
   "execution_count": null,
   "id": "23338cea",
   "metadata": {},
   "outputs": [],
   "source": [
    "n=eval(input(\"enter a number:\"))\n"
   ]
  },
  {
   "cell_type": "code",
   "execution_count": null,
   "id": "800737f5",
   "metadata": {},
   "outputs": [],
   "source": [
    "a=10\n",
    "type(a)"
   ]
  },
  {
   "cell_type": "code",
   "execution_count": null,
   "id": "41f433ff",
   "metadata": {},
   "outputs": [],
   "source": []
  }
 ],
 "metadata": {
  "kernelspec": {
   "display_name": "Python 3 (ipykernel)",
   "language": "python",
   "name": "python3"
  },
  "language_info": {
   "codemirror_mode": {
    "name": "ipython",
    "version": 3
   },
   "file_extension": ".py",
   "mimetype": "text/x-python",
   "name": "python",
   "nbconvert_exporter": "python",
   "pygments_lexer": "ipython3",
   "version": "3.11.4"
  }
 },
 "nbformat": 4,
 "nbformat_minor": 5
}
