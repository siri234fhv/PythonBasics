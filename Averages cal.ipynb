{
 "cells": [
  {
   "cell_type": "code",
   "execution_count": 13,
   "id": "08015173",
   "metadata": {},
   "outputs": [
    {
     "name": "stdout",
     "output_type": "stream",
     "text": [
      "enter a number:55\n",
      "55 is an odd number:\n"
     ]
    }
   ],
   "source": [
    "def even_odd():\n",
    "    n=eval(input(\"enter a number:\"))\n",
    "    if n%2==0:\n",
    "        print(\"{} is an even number:\".format(n))\n",
    "    else:\n",
    "        print(\"{} is an odd number:\".format(n))\n",
    "        \n",
    "even_odd()"
   ]
  },
  {
   "cell_type": "code",
   "execution_count": 14,
   "id": "e0b4bf55",
   "metadata": {},
   "outputs": [
    {
     "name": "stdout",
     "output_type": "stream",
     "text": [
      "55 is an odd number:\n"
     ]
    }
   ],
   "source": [
    "def even_odd(n):\n",
    "   \n",
    "    if n%2==0:\n",
    "        print(\"{} is an even number:\".format(n))\n",
    "    else:\n",
    "        print(\"{} is an odd number:\".format(n))\n",
    "    \n",
    "even_odd(55)"
   ]
  },
  {
   "cell_type": "code",
   "execution_count": 19,
   "id": "b4da5464",
   "metadata": {},
   "outputs": [
    {
     "name": "stdout",
     "output_type": "stream",
     "text": [
      "the average of three numbers is : 220.0\n"
     ]
    }
   ],
   "source": [
    "def average(num1,num2,num3=600):\n",
    "    average=(num1+num2+num3)/3\n",
    "    print(\"the average of three numbers is :\",average)\n",
    "average(10,50)"
   ]
  },
  {
   "cell_type": "code",
   "execution_count": 10,
   "id": "cb34bfbd",
   "metadata": {},
   "outputs": [
    {
     "name": "stdout",
     "output_type": "stream",
     "text": [
      "55 is an odd number:\n"
     ]
    }
   ],
   "source": [
    "#write default value always be in end\n",
    "#default value takes the recent values also"
   ]
  },
  {
   "cell_type": "code",
   "execution_count": 20,
   "id": "e133ebb9",
   "metadata": {},
   "outputs": [
    {
     "name": "stdout",
     "output_type": "stream",
     "text": [
      "the average of three numbers is : 120.0\n"
     ]
    }
   ],
   "source": [
    "def average(num1,num2,num3=600):\n",
    "\n",
    "    average=(num1+num2+num3)/3\n",
    "    print(\"the average of three numbers is :\",average)\n",
    "average(10,50,300)"
   ]
  },
  {
   "cell_type": "code",
   "execution_count": null,
   "id": "40296be6",
   "metadata": {},
   "outputs": [],
   "source": [
    "#tax calculation'\n",
    "#tax percentage as default argument as 10%\n",
    "#calculate the total tax on given salary\n",
    "#salary\n",
    "#tax_percentage=10%\n",
    "#total_tax"
   ]
  },
  {
   "cell_type": "code",
   "execution_count": 21,
   "id": "83d37945",
   "metadata": {},
   "outputs": [
    {
     "ename": "SyntaxError",
     "evalue": "invalid syntax (743820960.py, line 1)",
     "output_type": "error",
     "traceback": [
      "\u001b[1;36m  Cell \u001b[1;32mIn[21], line 1\u001b[1;36m\u001b[0m\n\u001b[1;33m    def tax_per(sal,10%)\u001b[0m\n\u001b[1;37m                    ^\u001b[0m\n\u001b[1;31mSyntaxError\u001b[0m\u001b[1;31m:\u001b[0m invalid syntax\n"
     ]
    }
   ],
   "source": [
    "def tax_per(sal,10%) ----i need to improve my logical skills\n",
    "tax calculation = salary*tax_per\n",
    "print(\"the total tax on given sal:\")\n",
    "tax per(5000,10%)"
   ]
  },
  {
   "cell_type": "code",
   "execution_count": 23,
   "id": "6bf46a08",
   "metadata": {},
   "outputs": [
    {
     "name": "stdout",
     "output_type": "stream",
     "text": [
      "enter the salary:10000\n",
      "enter the percentagr:10\n",
      "total tax to pay is: 1000.0\n"
     ]
    }
   ],
   "source": [
    "salary=eval(input(\"enter the salary:\"))\n",
    "tax_per=eval(input(\"enter the percentagr:\"))\n",
    "total_tax=(salary*tax_per)/100\n",
    "print(\"total tax to pay is:\",total_tax)"
   ]
  },
  {
   "cell_type": "code",
   "execution_count": null,
   "id": "9e79ccbe",
   "metadata": {},
   "outputs": [],
   "source": [
    "def tax(): \n",
    "    salary=eval(input(\"enter the salary:\"))\n",
    "    tax_per=eval(input(\"enter the percentagr:\"))\n",
    "    total_tax=(salary*tax_per)/100\n",
    "    print(\"total tax to pay is:\",total_tax)\n",
    "tax()"
   ]
  },
  {
   "cell_type": "code",
   "execution_count": null,
   "id": "de7db6af",
   "metadata": {},
   "outputs": [],
   "source": [
    "def tax(salary,tax):\n",
    "   \n",
    "    total_tax=(salary*tax_per)/100\n",
    "    print(\"total tax to pay is:\",total_tax)\n",
    "tax(20000,10)"
   ]
  },
  {
   "cell_type": "code",
   "execution_count": null,
   "id": "acc5e9db",
   "metadata": {},
   "outputs": [],
   "source": [
    "def tax(salary,tax=10):\n",
    "   \n",
    "    total_tax=(salary*tax_per)/100\n",
    "    print(\"total tax to pay is:\",total_tax)\n",
    "tax(2000)"
   ]
  },
  {
   "cell_type": "code",
   "execution_count": null,
   "id": "21aaf3f0",
   "metadata": {},
   "outputs": [],
   "source": []
  },
  {
   "cell_type": "code",
   "execution_count": null,
   "id": "70f597c1",
   "metadata": {},
   "outputs": [],
   "source": []
  }
 ],
 "metadata": {
  "kernelspec": {
   "display_name": "Python 3 (ipykernel)",
   "language": "python",
   "name": "python3"
  },
  "language_info": {
   "codemirror_mode": {
    "name": "ipython",
    "version": 3
   },
   "file_extension": ".py",
   "mimetype": "text/x-python",
   "name": "python",
   "nbconvert_exporter": "python",
   "pygments_lexer": "ipython3",
   "version": "3.11.4"
  }
 },
 "nbformat": 4,
 "nbformat_minor": 5
}
