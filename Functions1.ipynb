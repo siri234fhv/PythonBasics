{
 "cells": [
  {
   "cell_type": "code",
   "execution_count": 6,
   "id": "322233b0",
   "metadata": {},
   "outputs": [
    {
     "ename": "SyntaxError",
     "evalue": "invalid syntax (986126048.py, line 4)",
     "output_type": "error",
     "traceback": [
      "\u001b[1;36m  Cell \u001b[1;32mIn[6], line 4\u001b[1;36m\u001b[0m\n\u001b[1;33m    else:\u001b[0m\n\u001b[1;37m    ^\u001b[0m\n\u001b[1;31mSyntaxError\u001b[0m\u001b[1;31m:\u001b[0m invalid syntax\n"
     ]
    }
   ],
   "source": [
    "number=eval(input(\"enter a number:\"))\n",
    "if number%2==0:\n",
    "    print(\"it is an even number:\")\n",
    "    else:\n",
    "        print(\"it is an odd number\")"
   ]
  },
  {
   "cell_type": "code",
   "execution_count": 1,
   "id": "868cb70c",
   "metadata": {},
   "outputs": [
    {
     "ename": "SyntaxError",
     "evalue": "invalid syntax (2695189804.py, line 5)",
     "output_type": "error",
     "traceback": [
      "\u001b[1;36m  Cell \u001b[1;32mIn[1], line 5\u001b[1;36m\u001b[0m\n\u001b[1;33m    else:\u001b[0m\n\u001b[1;37m    ^\u001b[0m\n\u001b[1;31mSyntaxError\u001b[0m\u001b[1;31m:\u001b[0m invalid syntax\n"
     ]
    }
   ],
   "source": [
    "number=eval(input(\"enter a number:\"))\n",
    "\n",
    "if number%2==0:\n",
    "    print(\"it is an even number:\")\n",
    "    else:\n",
    "        print(\"it is an odd number:\")"
   ]
  },
  {
   "cell_type": "code",
   "execution_count": 14,
   "id": "17b4cb79",
   "metadata": {},
   "outputs": [
    {
     "name": "stdout",
     "output_type": "stream",
     "text": [
      "enter a number:7\n",
      "number 7 is b/w 1-99 range.\n"
     ]
    }
   ],
   "source": [
    "try:\n",
    "    num=eval(input('enter a number:'))\n",
    "    if(num>0):\n",
    "        if (num<=99):\n",
    "            print(\"number {} is b/w 1-99 range.\".format(num))\n",
    "    else:\n",
    "        print(\"number{} is greater and out of range.\".format(num))\n",
    "                \n",
    "except Exception as e:\n",
    "    print(e)"
   ]
  },
  {
   "cell_type": "code",
   "execution_count": null,
   "id": "9eb29629",
   "metadata": {},
   "outputs": [],
   "source": [
    "Functions\n",
    "def <function_name>:\n",
    "    <write_code>"
   ]
  },
  {
   "cell_type": "code",
   "execution_count": 15,
   "id": "792cee85",
   "metadata": {},
   "outputs": [
    {
     "name": "stdout",
     "output_type": "stream",
     "text": [
      "enter number of hours7\n",
      "enter a wage)3000\n",
      "my salary is : 21000\n"
     ]
    }
   ],
   "source": [
    "hours=eval(input(\"enter number of hours\"))\n",
    "wage_per_hour=eval(input(\"enter a wage)\"))\n",
    "salary=hours*wage_per_hour\n",
    "print(\"my salary is :\",salary)"
   ]
  },
  {
   "cell_type": "code",
   "execution_count": null,
   "id": "7fba99b9",
   "metadata": {},
   "outputs": [],
   "source": [
    "def salary()\n",
    "\n",
    "hours=eval(input(\"enter number of hours\"))\n",
    "wage_per_hour=eval(input(\"enter a wage)\"))\n",
    "salary=hours*wage_per_hour\n",
    "print(\"my salary is :\",salary)\n"
   ]
  },
  {
   "cell_type": "code",
   "execution_count": 17,
   "id": "d18a853a",
   "metadata": {},
   "outputs": [
    {
     "name": "stdout",
     "output_type": "stream",
     "text": [
      "enter a number:4\n",
      "enter a number:5\n",
      "the addition of num1 and num2 is : 9\n"
     ]
    }
   ],
   "source": [
    "\n",
    "num1=eval(input(\"enter a number:\"))\n",
    "num2= eval(input(\"enter a number:\"))\n",
    "add=num1+num2\n",
    "print(\"the addition of num1 and num2 is :\",add)"
   ]
  },
  {
   "cell_type": "code",
   "execution_count": 25,
   "id": "d2035ce6",
   "metadata": {},
   "outputs": [],
   "source": [
    "def addition():\n",
    "    num1=eval(input(\"enter a number:\"))\n",
    "    num2= eval(input(\"enter a number:\"))\n",
    "    add=num1+num2\n",
    "    print(\"the addition of num1 and num2 is :\",add)"
   ]
  },
  {
   "cell_type": "code",
   "execution_count": 26,
   "id": "9d659590",
   "metadata": {},
   "outputs": [
    {
     "data": {
      "text/plain": [
       "int"
      ]
     },
     "execution_count": 26,
     "metadata": {},
     "output_type": "execute_result"
    }
   ],
   "source": []
  },
  {
   "cell_type": "code",
   "execution_count": 27,
   "id": "d726b953",
   "metadata": {},
   "outputs": [
    {
     "name": "stdout",
     "output_type": "stream",
     "text": [
      "enter a number:200\n",
      "enter a number:40\n",
      "the addition of num1 and num2 is : 240\n"
     ]
    }
   ],
   "source": [
    "addition()"
   ]
  },
  {
   "cell_type": "code",
   "execution_count": null,
   "id": "4bfe985d",
   "metadata": {},
   "outputs": [],
   "source": [
    "#create a function to find average of three numbers"
   ]
  },
  {
   "cell_type": "code",
   "execution_count": 28,
   "id": "bc292295",
   "metadata": {},
   "outputs": [
    {
     "name": "stdout",
     "output_type": "stream",
     "text": [
      "enter a number:20\n",
      "enter a number:60\n",
      "enter a number:42\n",
      "the average of three numbers is : 94.0\n"
     ]
    }
   ],
   "source": [
    "num1=eval(input(\"enter a number:\"))\n",
    "num2=eval(input(\"enter a number:\"))\n",
    "num3=eval(input(\"enter a number:\"))\n",
    "average=num1+num2+num3/3\n",
    "print(\"the average of three numbers is :\",average)"
   ]
  },
  {
   "cell_type": "code",
   "execution_count": 31,
   "id": "0e6262a3",
   "metadata": {},
   "outputs": [
    {
     "name": "stdout",
     "output_type": "stream",
     "text": [
      "enter a number:45\n",
      "enter a number:54\n",
      "enter a number:56\n",
      "the average of three numbers is : 117.66666666666667\n"
     ]
    }
   ],
   "source": [
    "def average():  #without arguments\n",
    "    num1=eval(input(\"enter a number:\"))\n",
    "    num2=eval(input(\"enter a number:\"))\n",
    "    num3=eval(input(\"enter a number:\"))\n",
    "    average=num1+num2+num3/3\n",
    "    print(\"the average of three numbers is :\",average)\n",
    "average()"
   ]
  },
  {
   "cell_type": "code",
   "execution_count": 33,
   "id": "d878d7e5",
   "metadata": {},
   "outputs": [
    {
     "name": "stdout",
     "output_type": "stream",
     "text": [
      "the average of three numbers is : 40.0\n"
     ]
    }
   ],
   "source": [
    "def average(num1,num2,num3): #with arguments\n",
    "\n",
    "    average=num1+num2+num3/3\n",
    "    print(\"the average of three numbers is :\",average)\n",
    "    \n",
    "average(10,20,30)"
   ]
  },
  {
   "cell_type": "code",
   "execution_count": 38,
   "id": "6d668b42",
   "metadata": {},
   "outputs": [
    {
     "name": "stdout",
     "output_type": "stream",
     "text": [
      "the addition of a&b is : 150\n"
     ]
    }
   ],
   "source": [
    "def addition(a,b):\n",
    "\n",
    "    add=a+b\n",
    "    print(\"the addition of a&b is :\",add)\n",
    "    \n",
    "addition(70,80)"
   ]
  },
  {
   "cell_type": "code",
   "execution_count": 42,
   "id": "7dafaef7",
   "metadata": {},
   "outputs": [
    {
     "name": "stdout",
     "output_type": "stream",
     "text": [
      "hello shireesha good morning\n"
     ]
    }
   ],
   "source": [
    "def greet(name):\n",
    "    print('hello {} good morning'.format(name))\n",
    "greet(\"shireesha\")"
   ]
  },
  {
   "cell_type": "code",
   "execution_count": 18,
   "id": "833de47c",
   "metadata": {},
   "outputs": [
    {
     "name": "stdout",
     "output_type": "stream",
     "text": [
      "Enter the number:-89\n",
      "the number is negative\n"
     ]
    }
   ],
   "source": [
    "def Pos_Neg(a,b):\n",
    "    number=int(input(\"Enter the number:\"))\n",
    "    if number%2==0:\n",
    "            print(\"the number is positive\")\n",
    "    else:\n",
    "            print(\"the number is negative\")\n",
    "Pos_Neg(10,20)"
   ]
  },
  {
   "cell_type": "code",
   "execution_count": null,
   "id": "4098caee",
   "metadata": {},
   "outputs": [],
   "source": [
    "n=eval(input(\"enter a number:\"))\n",
    "if n%2==0:\n",
    "    print(\"{} is an even number:\".format(n))\n",
    "else:\n",
    "    print(\"{} is an odd number:\".format(n))"
   ]
  },
  {
   "cell_type": "code",
   "execution_count": 20,
   "id": "ba8ee666",
   "metadata": {},
   "outputs": [
    {
     "name": "stdout",
     "output_type": "stream",
     "text": [
      "enter a number:45\n",
      "45 is an odd number:\n"
     ]
    }
   ],
   "source": [
    "def even_odd():\n",
    "    n=eval(input(\"enter a number:\"))\n",
    "    if n%2==0:\n",
    "        print(\"{} is an even number:\".format(n))\n",
    "    else:\n",
    "        print(\"{} is an odd number:\".format(n))\n",
    "even_odd()"
   ]
  },
  {
   "cell_type": "code",
   "execution_count": null,
   "id": "eb8551b5",
   "metadata": {},
   "outputs": [],
   "source": [
    "#create an even_odd program with &without arguments\n",
    "#first write normal even_odd program\n",
    "#create a function without argument\n"
   ]
  },
  {
   "cell_type": "code",
   "execution_count": 43,
   "id": "5484c9b1",
   "metadata": {},
   "outputs": [
    {
     "ename": "NameError",
     "evalue": "name 'i' is not defined",
     "output_type": "error",
     "traceback": [
      "\u001b[1;31m---------------------------------------------------------------------------\u001b[0m",
      "\u001b[1;31mNameError\u001b[0m                                 Traceback (most recent call last)",
      "Cell \u001b[1;32mIn[43], line 2\u001b[0m\n\u001b[0;32m      1\u001b[0m colours\u001b[38;5;241m=\u001b[39m{\u001b[38;5;124m\"\u001b[39m\u001b[38;5;124mred\u001b[39m\u001b[38;5;124m\"\u001b[39m,\u001b[38;5;124m\"\u001b[39m\u001b[38;5;124mblue\u001b[39m\u001b[38;5;124m\"\u001b[39m,\u001b[38;5;124m\"\u001b[39m\u001b[38;5;124mViolet\u001b[39m\u001b[38;5;124m\"\u001b[39m}\n\u001b[1;32m----> 2\u001b[0m \u001b[38;5;28;01mif\u001b[39;00m i \u001b[38;5;129;01min\u001b[39;00m colours:\n\u001b[0;32m      3\u001b[0m     \u001b[38;5;28mprint\u001b[39m(i)\n",
      "\u001b[1;31mNameError\u001b[0m: name 'i' is not defined"
     ]
    }
   ],
   "source": []
  },
  {
   "cell_type": "code",
   "execution_count": null,
   "id": "cd10025e",
   "metadata": {},
   "outputs": [],
   "source": []
  }
 ],
 "metadata": {
  "kernelspec": {
   "display_name": "Python 3 (ipykernel)",
   "language": "python",
   "name": "python3"
  },
  "language_info": {
   "codemirror_mode": {
    "name": "ipython",
    "version": 3
   },
   "file_extension": ".py",
   "mimetype": "text/x-python",
   "name": "python",
   "nbconvert_exporter": "python",
   "pygments_lexer": "ipython3",
   "version": "3.11.4"
  }
 },
 "nbformat": 4,
 "nbformat_minor": 5
}
