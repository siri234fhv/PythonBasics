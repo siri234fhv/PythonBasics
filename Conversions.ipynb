{
 "cells": [
  {
   "cell_type": "code",
   "execution_count": 1,
   "id": "0ebd4f60",
   "metadata": {},
   "outputs": [
    {
     "name": "stdout",
     "output_type": "stream",
     "text": [
      "enter a value:10\n",
      "enter b value:20\n",
      "sum of a and b is : 1020\n"
     ]
    }
   ],
   "source": [
    "#method 2\n",
    "a=input('enter a value:')\n",
    "b=input('enter b value:')\n",
    "print('sum of a and b is :', a+b)\n"
   ]
  },
  {
   "cell_type": "code",
   "execution_count": null,
   "id": "0dec63a4",
   "metadata": {},
   "outputs": [],
   "source": [
    "# sum of a and b is 1020----whenever the user input take string .. so we can do the type casting string into integer"
   ]
  },
  {
   "cell_type": "code",
   "execution_count": 2,
   "id": "dac3abd3",
   "metadata": {},
   "outputs": [
    {
     "name": "stdout",
     "output_type": "stream",
     "text": [
      "enter a value:10\n",
      "enter b value:20\n",
      "sum of a and b is: 30\n"
     ]
    }
   ],
   "source": [
    "#method 3\n",
    "a=int(input('enter a value:')) #a='10'==int('10')=10\n",
    "b=int(input('enter b value:'))\n",
    "print('sum of a and b is:', a+b)"
   ]
  },
  {
   "cell_type": "code",
   "execution_count": 3,
   "id": "431511fc",
   "metadata": {},
   "outputs": [
    {
     "name": "stdout",
     "output_type": "stream",
     "text": [
      "enter a value:20\n",
      "enter b value:30\n",
      "sum of a and b is: 50\n"
     ]
    }
   ],
   "source": [
    "a=input('enter a value:')\n",
    "b=input('enter b value:')\n",
    "print('sum of a and b is:', int(a)+int(b))"
   ]
  },
  {
   "cell_type": "code",
   "execution_count": 7,
   "id": "b0dea92d",
   "metadata": {},
   "outputs": [
    {
     "ename": "SyntaxError",
     "evalue": "Missing parentheses in call to 'print'. Did you mean print(...)? (3019856845.py, line 5)",
     "output_type": "error",
     "traceback": [
      "\u001b[1;36m  Cell \u001b[1;32mIn[7], line 5\u001b[1;36m\u001b[0m\n\u001b[1;33m    print float(('mul of a{} and b{} is {}: ' ,a*b))\u001b[0m\n\u001b[1;37m    ^\u001b[0m\n\u001b[1;31mSyntaxError\u001b[0m\u001b[1;31m:\u001b[0m Missing parentheses in call to 'print'. Did you mean print(...)?\n"
     ]
    }
   ],
   "source": [
    "#ask the user to enter 10.5 and 20.5 and apply multiplication\n",
    "a=10.5\n",
    "b=20.5\n",
    "c=a*b\n",
    "print ('mul of a{} and b{} is {}: ' ,a*b)"
   ]
  },
  {
   "cell_type": "code",
   "execution_count": 10,
   "id": "37000f46",
   "metadata": {},
   "outputs": [
    {
     "ename": "SyntaxError",
     "evalue": "incomplete input (3549770470.py, line 3)",
     "output_type": "error",
     "traceback": [
      "\u001b[1;36m  Cell \u001b[1;32mIn[10], line 3\u001b[1;36m\u001b[0m\n\u001b[1;33m    print(\"multiplication of{} and b{} is{}:\".format(a,b,a*b)\u001b[0m\n\u001b[1;37m                                                              ^\u001b[0m\n\u001b[1;31mSyntaxError\u001b[0m\u001b[1;31m:\u001b[0m incomplete input\n"
     ]
    }
   ],
   "source": [
    "a=float(input('enter a value:'))\n",
    "b=float(input('enter b value:'))\n",
    "print(\"multiplication of{} and b{} is{}:\".format(a,b,a*b) \n"
   ]
  },
  {
   "cell_type": "code",
   "execution_count": 11,
   "id": "283e3c49",
   "metadata": {},
   "outputs": [
    {
     "name": "stdout",
     "output_type": "stream",
     "text": [
      "enter a value:10.5\n",
      "enter b value:20.5\n",
      "sum of a and b is: 31.0\n"
     ]
    }
   ],
   "source": [
    "a=eval(input('enter a value:'))\n",
    "b=eval(input('enter b value:'))\n",
    "print('sum of a and b is:',a+b)\n"
   ]
  },
  {
   "cell_type": "code",
   "execution_count": null,
   "id": "bf2fe8e2",
   "metadata": {},
   "outputs": [],
   "source": [
    "#user promts always -===string type\n",
    "#we are converting into either int or float type\n",
    "#eval ====int/float"
   ]
  },
  {
   "cell_type": "code",
   "execution_count": 13,
   "id": "2715921a",
   "metadata": {},
   "outputs": [
    {
     "ename": "ValueError",
     "evalue": "invalid literal for int() with base 10: 'python'",
     "output_type": "error",
     "traceback": [
      "\u001b[1;31m---------------------------------------------------------------------------\u001b[0m",
      "\u001b[1;31mValueError\u001b[0m                                Traceback (most recent call last)",
      "Cell \u001b[1;32mIn[13], line 2\u001b[0m\n\u001b[0;32m      1\u001b[0m s1\u001b[38;5;241m=\u001b[39m\u001b[38;5;124m'\u001b[39m\u001b[38;5;124mpython\u001b[39m\u001b[38;5;124m'\u001b[39m\n\u001b[1;32m----> 2\u001b[0m \u001b[38;5;28mint\u001b[39m(s1)\n",
      "\u001b[1;31mValueError\u001b[0m: invalid literal for int() with base 10: 'python'"
     ]
    }
   ],
   "source": [
    "s1='python'\n",
    "int(s1)"
   ]
  },
  {
   "cell_type": "code",
   "execution_count": 14,
   "id": "a0059e3c",
   "metadata": {},
   "outputs": [
    {
     "ename": "ValueError",
     "evalue": "invalid literal for int() with base 10: '10.5'",
     "output_type": "error",
     "traceback": [
      "\u001b[1;31m---------------------------------------------------------------------------\u001b[0m",
      "\u001b[1;31mValueError\u001b[0m                                Traceback (most recent call last)",
      "Cell \u001b[1;32mIn[14], line 2\u001b[0m\n\u001b[0;32m      1\u001b[0m s2\u001b[38;5;241m=\u001b[39m\u001b[38;5;124m'\u001b[39m\u001b[38;5;124m10.5\u001b[39m\u001b[38;5;124m'\u001b[39m\n\u001b[1;32m----> 2\u001b[0m \u001b[38;5;28mint\u001b[39m(s2)\n",
      "\u001b[1;31mValueError\u001b[0m: invalid literal for int() with base 10: '10.5'"
     ]
    }
   ],
   "source": [
    "s2='10.5' ===float type so convert to int\n",
    "int(s2)===="
   ]
  },
  {
   "cell_type": "code",
   "execution_count": 15,
   "id": "249ec651",
   "metadata": {},
   "outputs": [
    {
     "ename": "ValueError",
     "evalue": "invalid literal for int() with base 10: '10+20j'",
     "output_type": "error",
     "traceback": [
      "\u001b[1;31m---------------------------------------------------------------------------\u001b[0m",
      "\u001b[1;31mValueError\u001b[0m                                Traceback (most recent call last)",
      "Cell \u001b[1;32mIn[15], line 2\u001b[0m\n\u001b[0;32m      1\u001b[0m s3\u001b[38;5;241m=\u001b[39m\u001b[38;5;124m'\u001b[39m\u001b[38;5;124m10+20j\u001b[39m\u001b[38;5;124m'\u001b[39m\n\u001b[1;32m----> 2\u001b[0m \u001b[38;5;28mint\u001b[39m(s3)\n",
      "\u001b[1;31mValueError\u001b[0m: invalid literal for int() with base 10: '10+20j'"
     ]
    }
   ],
   "source": [
    "s3='10+20j'\n",
    "int(s3)"
   ]
  },
  {
   "cell_type": "code",
   "execution_count": 16,
   "id": "4dd51bb9",
   "metadata": {},
   "outputs": [
    {
     "name": "stdout",
     "output_type": "stream",
     "text": [
      "enter a complex num:10+20j\n"
     ]
    }
   ],
   "source": [
    "a=input('enter a complex num:')"
   ]
  },
  {
   "cell_type": "code",
   "execution_count": null,
   "id": "2dac1133",
   "metadata": {},
   "outputs": [],
   "source": [
    "#ask the user enter a number of hours work\n",
    "#ask the user enter a wage per hour\n",
    "#calculate total money"
   ]
  },
  {
   "cell_type": "code",
   "execution_count": null,
   "id": "16f5168d",
   "metadata": {},
   "outputs": [],
   "source": [
    "\n",
    "a=input('enter a number of hours work:')\n",
    "b= input('enter a wage per hour:')\n",
    "d= input ('total money=a*b:')"
   ]
  },
  {
   "cell_type": "code",
   "execution_count": 1,
   "id": "a3770984",
   "metadata": {},
   "outputs": [
    {
     "name": "stdout",
     "output_type": "stream",
     "text": [
      "enter number a:10\n",
      "enter number b:30\n",
      "division of 10 and 30 is 0.3333333333333333\n"
     ]
    }
   ],
   "source": [
    "a=eval(input(\"enter number a:\"))\n",
    "b=eval(input(\"enter number b:\"))\n",
    "d=a/b\n",
    "print(\"division of {} and {} is {}\".format(a,b,a/b)) "
   ]
  },
  {
   "cell_type": "code",
   "execution_count": 4,
   "id": "23e20b22",
   "metadata": {},
   "outputs": [
    {
     "name": "stdout",
     "output_type": "stream",
     "text": [
      "0.3333333333333333\n",
      "0.33\n"
     ]
    }
   ],
   "source": [
    "d=a/b\n",
    "print(d)\n",
    "print(round(d,2))"
   ]
  },
  {
   "cell_type": "code",
   "execution_count": 6,
   "id": "ca13e7da",
   "metadata": {},
   "outputs": [
    {
     "name": "stdout",
     "output_type": "stream",
     "text": [
      "enter number a:100\n",
      "enter number b:0\n"
     ]
    },
    {
     "ename": "NameError",
     "evalue": "name 'expection' is not defined",
     "output_type": "error",
     "traceback": [
      "\u001b[1;31m---------------------------------------------------------------------------\u001b[0m",
      "\u001b[1;31mZeroDivisionError\u001b[0m                         Traceback (most recent call last)",
      "Cell \u001b[1;32mIn[6], line 4\u001b[0m\n\u001b[0;32m      3\u001b[0m     b\u001b[38;5;241m=\u001b[39m\u001b[38;5;28meval\u001b[39m(\u001b[38;5;28minput\u001b[39m(\u001b[38;5;124m\"\u001b[39m\u001b[38;5;124menter number b:\u001b[39m\u001b[38;5;124m\"\u001b[39m))\n\u001b[1;32m----> 4\u001b[0m     \u001b[38;5;28mprint\u001b[39m(\u001b[38;5;124m\"\u001b[39m\u001b[38;5;124mdivision of \u001b[39m\u001b[38;5;132;01m{}\u001b[39;00m\u001b[38;5;124m and \u001b[39m\u001b[38;5;132;01m{}\u001b[39;00m\u001b[38;5;124m is \u001b[39m\u001b[38;5;132;01m{}\u001b[39;00m\u001b[38;5;124m\"\u001b[39m\u001b[38;5;241m.\u001b[39mformat(a,b,a\u001b[38;5;241m/\u001b[39mb)) \n\u001b[0;32m      5\u001b[0m \u001b[38;5;28;01mexcept\u001b[39;00m expection \u001b[38;5;28;01mas\u001b[39;00m e:\n",
      "\u001b[1;31mZeroDivisionError\u001b[0m: division by zero",
      "\nDuring handling of the above exception, another exception occurred:\n",
      "\u001b[1;31mNameError\u001b[0m                                 Traceback (most recent call last)",
      "Cell \u001b[1;32mIn[6], line 5\u001b[0m\n\u001b[0;32m      3\u001b[0m     b\u001b[38;5;241m=\u001b[39m\u001b[38;5;28meval\u001b[39m(\u001b[38;5;28minput\u001b[39m(\u001b[38;5;124m\"\u001b[39m\u001b[38;5;124menter number b:\u001b[39m\u001b[38;5;124m\"\u001b[39m))\n\u001b[0;32m      4\u001b[0m     \u001b[38;5;28mprint\u001b[39m(\u001b[38;5;124m\"\u001b[39m\u001b[38;5;124mdivision of \u001b[39m\u001b[38;5;132;01m{}\u001b[39;00m\u001b[38;5;124m and \u001b[39m\u001b[38;5;132;01m{}\u001b[39;00m\u001b[38;5;124m is \u001b[39m\u001b[38;5;132;01m{}\u001b[39;00m\u001b[38;5;124m\"\u001b[39m\u001b[38;5;241m.\u001b[39mformat(a,b,a\u001b[38;5;241m/\u001b[39mb)) \n\u001b[1;32m----> 5\u001b[0m \u001b[38;5;28;01mexcept\u001b[39;00m expection \u001b[38;5;28;01mas\u001b[39;00m e:\n\u001b[0;32m      6\u001b[0m     \u001b[38;5;28mprint\u001b[39m(\u001b[38;5;124m\"\u001b[39m\u001b[38;5;124mthe error is :\u001b[39m\u001b[38;5;124m\"\u001b[39m,e)\n",
      "\u001b[1;31mNameError\u001b[0m: name 'expection' is not defined"
     ]
    }
   ],
   "source": [
    "try:\n",
    "    a=eval(input(\"enter number a:\"))\n",
    "    b=eval(input(\"enter number b:\"))\n",
    "    print(\"division of {} and {} is {}\".format(a,b,a/b)) \n",
    "except expection as e:\n",
    "    print(\"the error is :\",e)"
   ]
  },
  {
   "cell_type": "code",
   "execution_count": null,
   "id": "ba12ac0e",
   "metadata": {},
   "outputs": [],
   "source": []
  }
 ],
 "metadata": {
  "kernelspec": {
   "display_name": "Python 3 (ipykernel)",
   "language": "python",
   "name": "python3"
  },
  "language_info": {
   "codemirror_mode": {
    "name": "ipython",
    "version": 3
   },
   "file_extension": ".py",
   "mimetype": "text/x-python",
   "name": "python",
   "nbconvert_exporter": "python",
   "pygments_lexer": "ipython3",
   "version": "3.11.4"
  }
 },
 "nbformat": 4,
 "nbformat_minor": 5
}
